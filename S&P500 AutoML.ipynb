{
 "cells": [
  {
   "cell_type": "markdown",
   "metadata": {},
   "source": [
    "# Economic Market Prediction [Hands on Azure AutoML]\n",
    "  "
   ]
  },
  {
   "cell_type": "markdown",
   "metadata": {},
   "source": [
    "# Abstract:  \n",
    "__Lately, Machine Learning has become inevitable method of data analysis. It is used every day to make critical decisions in stock trading, medical diagnosis, energy load forecasting, and more. However, sometimes it gets difficult for non-expert to design a flawless model. The goal of this Project is to Develop the Automated Machine Learning model so that it can be used by economist to analyze.__ "
   ]
  },
  {
   "cell_type": "markdown",
   "metadata": {},
   "source": [
    "__AutoML__ : Automated machine learning (AutoML) is the process of automating the process of applying machine learning to real-world problems. AutoML covers the complete pipeline from the raw dataset to the deployable machine learning model.The high degree of automation in AutoML allows non-experts to make use of machine learning models and techniques without requiring to become an expert in this field first."
   ]
  },
  {
   "cell_type": "markdown",
   "metadata": {},
   "source": [
    "Data scientists, analysts, and developers across industries can use automated ML to:\n",
    "- Implement ML solutions without extensive programming knowledge<br>\n",
    "- Save time and resources<br>\n",
    "- Leverage data science best practices<br>\n",
    "- Provide agile problem-solving<br>"
   ]
  },
  {
   "cell_type": "markdown",
   "metadata": {},
   "source": [
    "__Target of AutoML is to automate the following stages:__ \n",
    ">1. Data preparation<br>\n",
    ">2. Feature engineering<br>\n",
    ">3. Model selection<br>\n",
    ">4. Selection of evaluation metrics<br> \n",
    ">5. Hyperparameter optimization<br>"
   ]
  },
  {
   "cell_type": "markdown",
   "metadata": {},
   "source": [
    "__Data preparation:__ \n",
    "Data preparation process consists of Handling missing data, Scaling or Normalising the data, Converting text to numeric values(dummy variables) to help algorithms perform well.\n"
   ]
  },
  {
   "cell_type": "markdown",
   "metadata": {},
   "source": [
    "__Feature engineering:__ Feature engineering is the process of using domain knowledge to extract features from raw data via data mining techniques. The feature engineering process contains \n",
    "- Feature selection \n",
    "- Feature extraction \n",
    "- Meta learning and transfer learning\n",
    "- Detection and handling of skewed data<br>"
   ]
  },
  {
   "cell_type": "markdown",
   "metadata": {},
   "source": [
    "__Model selection:__ It is the task of selecting a statistical model from a set of candidate models, given data. "
   ]
  },
  {
   "cell_type": "markdown",
   "metadata": {},
   "source": [
    "__Hyperparameter optimization__: It finds a tuple of hyperparameters that yields an optimal model which minimizes a predefined loss function on given test data"
   ]
  },
  {
   "cell_type": "markdown",
   "metadata": {},
   "source": [
    "__Pipeline Architecture:__"
   ]
  },
  {
   "cell_type": "markdown",
   "metadata": {},
   "source": [
    "\n",
    "![title](Images/pipeline.png)"
   ]
  },
  {
   "cell_type": "markdown",
   "metadata": {},
   "source": [
    "# Azure AutoML:  \n",
    "Azure AutoML allows to build ML models with high scale, efficiency, and productivity all while sustaining model quality.<br> \n",
    "In this Project, Automated machine learning from Azure Machine Learning is used to create a regression model to predict S&P500 data. This process accepts training data and configuration settings, and automatically iterates through combinations of different feature normalization/standardization methods, models, and hyperparameter settings to arrive at the best model."
   ]
  },
  {
   "cell_type": "markdown",
   "metadata": {},
   "source": [
    "__Steps for Automated ML training experiments__:\n",
    "> 1. Identify the ML problem to be solved: classification, forecasting, or regression\n",
    "> 2. Choose whether you want to use the __Python SDK__ or the __Studio web experience__\n",
    "> 3. Specify the source and format of the labeled training data: Numpy arrays or Pandas dataframe\n",
    "> 4. Configure the compute target for model training: local computer, Azure Machine Learning Computes, remote VMs, or Azure Databricks. \n",
    "> 5. Configure the automated machine learning parameters that determine how many iterations over different models, hyperparameter settings, advanced preprocessing/featurization, and what metrics to look at when determining the best model.\n",
    "> 6. Submit the training run.\n",
    "> 7. Review the results\n",
    "\n"
   ]
  },
  {
   "cell_type": "markdown",
   "metadata": {},
   "source": [
    "<center>\n",
    "    <img src=\"Images/autoML.png\" />\n",
    "</center>"
   ]
  },
  {
   "cell_type": "markdown",
   "metadata": {},
   "source": [
    "## __Environment specification:__<br>\n",
    "\n",
    "\n",
    "__To intall AzureML__ use the following command:<br>\n",
    "*pip install azureml-sdk[notebooks,automl]*\n",
    "\n",
    "\n"
   ]
  },
  {
   "cell_type": "markdown",
   "metadata": {},
   "source": [
    "# Model :"
   ]
  },
  {
   "cell_type": "markdown",
   "metadata": {},
   "source": [
    "To Check whether azureml is properly installed or not, Use following command:"
   ]
  },
  {
   "cell_type": "code",
   "execution_count": 2,
   "metadata": {},
   "outputs": [
    {
     "name": "stdout",
     "output_type": "stream",
     "text": [
      "Current version of the Azure ML SDK is  1.2.0\n"
     ]
    }
   ],
   "source": [
    "import azureml.core\n",
    "print(\"Current version of the Azure ML SDK is \", azureml.core.VERSION)"
   ]
  },
  {
   "cell_type": "markdown",
   "metadata": {},
   "source": [
    "### Creating WorkSpace: "
   ]
  },
  {
   "cell_type": "code",
   "execution_count": 3,
   "metadata": {},
   "outputs": [
    {
     "name": "stdout",
     "output_type": "stream",
     "text": [
      "Library configuration succeeded\n",
      "\n",
      "WorkSpace name:  ADS_Project \n",
      "location: \t eastus2 \n",
      "resource_group:  automl\n"
     ]
    }
   ],
   "source": [
    "from azureml.core import Workspace\n",
    "\n",
    "subscription_id = '<Subsription ID>' ## Provide your Subsription ID\n",
    "resource_group  = '<resource_group>'      ## Provide your resource_group                           \n",
    "workspace_name  = '<workspace_name>' ## Provide your workspace_name\n",
    "\n",
    "\n",
    "try:\n",
    "    ws = Workspace(subscription_id = subscription_id, resource_group = resource_group, workspace_name = workspace_name)\n",
    "    ws.write_config()\n",
    "    print('Library configuration succeeded\\n')\n",
    "    print('WorkSpace name: ',ws.name,'\\nlocation: \\t', ws.location,'\\nresource_group: ', ws.resource_group)\n",
    "except:\n",
    "    print('Workspace not found')"
   ]
  },
  {
   "cell_type": "markdown",
   "metadata": {},
   "source": [
    "__In this project, I used Local python SDK to develop automl model.__ <br>\n",
    "__Following Code could create compute on azure to store, and train our model. However, it's not necessary to create a virtual environment.__\n"
   ]
  },
  {
   "cell_type": "markdown",
   "metadata": {},
   "source": [
    "'''from azureml.core.compute import ComputeTarget, AmlCompute\n",
    "from azureml.core.compute_target import ComputeTargetException\n",
    "\n",
    "__Choose a name for your cluster.__\n",
    "amlcompute_cluster_name = \"hardware-cluster\"\n",
    "\n",
    "__Verify that cluster does not exist already__\n",
    "try:\n",
    "    compute_target = ComputeTarget(workspace=ws, name=amlcompute_cluster_name)\n",
    "    print('Found existing cluster, use it.')\n",
    "except ComputeTargetException:\n",
    "    compute_config = AmlCompute.provisioning_configuration(vm_size='STANDARD_D2_V2',\n",
    "                                                           max_nodes=4)\n",
    "    compute_target = ComputeTarget.create(ws, amlcompute_cluster_name, compute_config)\n",
    "\n",
    "compute_target.wait_for_completion(show_output=True)'''"
   ]
  },
  {
   "cell_type": "markdown",
   "metadata": {},
   "source": [
    "### Import Libraries:"
   ]
  },
  {
   "cell_type": "code",
   "execution_count": 30,
   "metadata": {},
   "outputs": [],
   "source": [
    "import pandas as pd\n",
    "from matplotlib import pyplot as plt\n",
    "%matplotlib inline"
   ]
  },
  {
   "cell_type": "markdown",
   "metadata": {},
   "source": [
    "__Loading dataset from Local Machine:__"
   ]
  },
  {
   "cell_type": "code",
   "execution_count": 7,
   "metadata": {},
   "outputs": [],
   "source": [
    "sp500=pd.read_csv(\"EconomicData/s&p500.csv\",header=0, index_col=0, parse_dates=True, squeeze=True)"
   ]
  },
  {
   "cell_type": "code",
   "execution_count": 10,
   "metadata": {},
   "outputs": [
    {
     "data": {
      "text/html": [
       "<div>\n",
       "<style scoped>\n",
       "    .dataframe tbody tr th:only-of-type {\n",
       "        vertical-align: middle;\n",
       "    }\n",
       "\n",
       "    .dataframe tbody tr th {\n",
       "        vertical-align: top;\n",
       "    }\n",
       "\n",
       "    .dataframe thead th {\n",
       "        text-align: right;\n",
       "    }\n",
       "</style>\n",
       "<table border=\"1\" class=\"dataframe\">\n",
       "  <thead>\n",
       "    <tr style=\"text-align: right;\">\n",
       "      <th></th>\n",
       "      <th>SP500</th>\n",
       "      <th>Dividend</th>\n",
       "      <th>Earnings</th>\n",
       "      <th>Consumer Price Index</th>\n",
       "      <th>Long Interest Rate</th>\n",
       "      <th>Real Price</th>\n",
       "      <th>Real Dividend</th>\n",
       "      <th>Real Earnings</th>\n",
       "      <th>PE10</th>\n",
       "    </tr>\n",
       "    <tr>\n",
       "      <th>Date</th>\n",
       "      <th></th>\n",
       "      <th></th>\n",
       "      <th></th>\n",
       "      <th></th>\n",
       "      <th></th>\n",
       "      <th></th>\n",
       "      <th></th>\n",
       "      <th></th>\n",
       "      <th></th>\n",
       "    </tr>\n",
       "  </thead>\n",
       "  <tbody>\n",
       "    <tr>\n",
       "      <th>1881-01-01</th>\n",
       "      <td>6.19</td>\n",
       "      <td>0.27</td>\n",
       "      <td>0.49</td>\n",
       "      <td>9.42</td>\n",
       "      <td>3.70</td>\n",
       "      <td>164.18</td>\n",
       "      <td>7.03</td>\n",
       "      <td>12.89</td>\n",
       "      <td>18.47</td>\n",
       "    </tr>\n",
       "    <tr>\n",
       "      <th>1881-02-01</th>\n",
       "      <td>6.17</td>\n",
       "      <td>0.27</td>\n",
       "      <td>0.48</td>\n",
       "      <td>9.51</td>\n",
       "      <td>3.69</td>\n",
       "      <td>162.01</td>\n",
       "      <td>7.09</td>\n",
       "      <td>12.65</td>\n",
       "      <td>18.15</td>\n",
       "    </tr>\n",
       "    <tr>\n",
       "      <th>1881-03-01</th>\n",
       "      <td>6.24</td>\n",
       "      <td>0.28</td>\n",
       "      <td>0.48</td>\n",
       "      <td>9.51</td>\n",
       "      <td>3.69</td>\n",
       "      <td>163.85</td>\n",
       "      <td>7.22</td>\n",
       "      <td>12.54</td>\n",
       "      <td>18.27</td>\n",
       "    </tr>\n",
       "    <tr>\n",
       "      <th>1881-04-01</th>\n",
       "      <td>6.22</td>\n",
       "      <td>0.28</td>\n",
       "      <td>0.47</td>\n",
       "      <td>9.61</td>\n",
       "      <td>3.68</td>\n",
       "      <td>161.71</td>\n",
       "      <td>7.28</td>\n",
       "      <td>12.31</td>\n",
       "      <td>17.95</td>\n",
       "    </tr>\n",
       "    <tr>\n",
       "      <th>1881-05-01</th>\n",
       "      <td>6.50</td>\n",
       "      <td>0.28</td>\n",
       "      <td>0.47</td>\n",
       "      <td>9.51</td>\n",
       "      <td>3.67</td>\n",
       "      <td>170.68</td>\n",
       "      <td>7.48</td>\n",
       "      <td>12.32</td>\n",
       "      <td>18.87</td>\n",
       "    </tr>\n",
       "  </tbody>\n",
       "</table>\n",
       "</div>"
      ],
      "text/plain": [
       "            SP500  Dividend  Earnings  Consumer Price Index  \\\n",
       "Date                                                          \n",
       "1881-01-01   6.19      0.27      0.49                  9.42   \n",
       "1881-02-01   6.17      0.27      0.48                  9.51   \n",
       "1881-03-01   6.24      0.28      0.48                  9.51   \n",
       "1881-04-01   6.22      0.28      0.47                  9.61   \n",
       "1881-05-01   6.50      0.28      0.47                  9.51   \n",
       "\n",
       "            Long Interest Rate  Real Price  Real Dividend  Real Earnings  \\\n",
       "Date                                                                       \n",
       "1881-01-01                3.70      164.18           7.03          12.89   \n",
       "1881-02-01                3.69      162.01           7.09          12.65   \n",
       "1881-03-01                3.69      163.85           7.22          12.54   \n",
       "1881-04-01                3.68      161.71           7.28          12.31   \n",
       "1881-05-01                3.67      170.68           7.48          12.32   \n",
       "\n",
       "             PE10  \n",
       "Date               \n",
       "1881-01-01  18.47  \n",
       "1881-02-01  18.15  \n",
       "1881-03-01  18.27  \n",
       "1881-04-01  17.95  \n",
       "1881-05-01  18.87  "
      ]
     },
     "execution_count": 10,
     "metadata": {},
     "output_type": "execute_result"
    }
   ],
   "source": [
    "sp500.head()"
   ]
  },
  {
   "cell_type": "code",
   "execution_count": 8,
   "metadata": {},
   "outputs": [
    {
     "data": {
      "text/plain": [
       "SP500                   0\n",
       "Dividend                1\n",
       "Earnings                4\n",
       "Consumer Price Index    0\n",
       "Long Interest Rate      0\n",
       "Real Price              0\n",
       "Real Dividend           1\n",
       "Real Earnings           4\n",
       "PE10                    0\n",
       "dtype: int64"
      ]
     },
     "execution_count": 8,
     "metadata": {},
     "output_type": "execute_result"
    }
   ],
   "source": [
    "sp500.isnull().sum()"
   ]
  },
  {
   "cell_type": "markdown",
   "metadata": {},
   "source": [
    "__As you can see, Dataset contains Null values. Also, Data is not in normalized form.<br>\n",
    "AutoML itself handle data cleaning process so we don't need to worry about it.__"
   ]
  },
  {
   "cell_type": "markdown",
   "metadata": {},
   "source": [
    " "
   ]
  },
  {
   "cell_type": "markdown",
   "metadata": {},
   "source": [
    "### Training and Test Data for AutoML experiment:\n",
    "Spliting of data into Training and Testing "
   ]
  },
  {
   "cell_type": "code",
   "execution_count": 11,
   "metadata": {},
   "outputs": [],
   "source": [
    "from sklearn.model_selection import train_test_split\n",
    "\n",
    "train_data, test_data = train_test_split(sp500, test_size=0.1, random_state=42)\n",
    "label = \"SP500\""
   ]
  },
  {
   "cell_type": "markdown",
   "metadata": {},
   "source": [
    " "
   ]
  },
  {
   "cell_type": "markdown",
   "metadata": {},
   "source": [
    "### Model Configuration: \n",
    "Instantiate an AutoMLConfig object to specify the settings and data used to run the experiment.\n"
   ]
  },
  {
   "cell_type": "code",
   "execution_count": 12,
   "metadata": {},
   "outputs": [],
   "source": [
    "from azureml.train.automl import AutoMLConfig\n",
    "\n",
    "automl_regressor = AutoMLConfig(\n",
    "   task='regression',\n",
    "   experiment_timeout_minutes=30,\n",
    "   primary_metric='r2_score',\n",
    "   training_data=train_data,\n",
    "   label_column_name=label,\n",
    "   n_cross_validations=5)\n"
   ]
  },
  {
   "cell_type": "markdown",
   "metadata": {},
   "source": [
    "\n",
    "Task: classification/regression/forecasting <br>\n",
    "experiment_timeout_minutes: 30 min (model will run for )\n",
    "Primary metric is the metric that you want to optimize.<br>\n",
    "Regression supports the following primary metrics: spearman_correlation / normalized_root_mean_squared_error / r2_score<br>\n",
    "\n",
    "whitelist[]: List of machine learning Models which will be __Included__ for training<br>\n",
    "blacklist[]: List of machine learning Models which will be __Excluded__ From training<br>\n",
    "If None is mentioned, then model will include all the models which are availble.<br>\n",
    "\n",
    "Training_data: Independent variables <br>\n",
    "Label_column_name: Dependent variable coulmn name <br>\n",
    "n_cross_validations: Number of cross validation splits."
   ]
  },
  {
   "cell_type": "markdown",
   "metadata": {},
   "source": [
    " ### Creating Experiment:"
   ]
  },
  {
   "cell_type": "code",
   "execution_count": 14,
   "metadata": {},
   "outputs": [],
   "source": [
    "from azureml.core.experiment import Experiment\n",
    "experiment = Experiment(workspace=ws, name='exp3')"
   ]
  },
  {
   "cell_type": "markdown",
   "metadata": {},
   "source": [
    "Call the submit method on the experiment object and pass the run configuration. Execution of local runs is synchronous. Depending on the data and the number of iterations this can run for a while. In this example, we specify show_output = True to print currently running iterations to the console."
   ]
  },
  {
   "cell_type": "code",
   "execution_count": 15,
   "metadata": {
    "scrolled": false
   },
   "outputs": [
    {
     "name": "stdout",
     "output_type": "stream",
     "text": [
      "Running on local machine\n",
      "Parent Run ID: AutoML_27328928-d2b2-468c-81d7-57e22d39498f\n",
      "\n",
      "Current status: DatasetEvaluation. Gathering dataset statistics.\n",
      "Current status: FeaturesGeneration. Generating features for the dataset.\n",
      "Current status: DatasetFeaturization. Beginning to fit featurizers and featurize the dataset.\n",
      "Current status: DatasetFeaturizationCompleted. Completed fit featurizers and featurizing the dataset.\n",
      "Current status: DatasetCrossValidationSplit. Generating individually featurized CV splits.\n",
      "\n",
      "****************************************************************************************************\n",
      "DATA GUARDRAILS: \n",
      "\n",
      "TYPE:         Missing values imputation\n",
      "STATUS:       FIXED\n",
      "DESCRIPTION:  The training data had the following missing values which were resolved. Please review your data source for data quality issues and possibly filter out the rows with these missing values. If the missing values are expected, you can either accept the above imputation, or implement your own custom imputation that may be more appropriate based on the data type and business process.\n",
      "PARAMETERS:   Column name : Dividend, Imputation type : mean\n",
      "              Column name : Earnings, Imputation type : mean\n",
      "              Column name : Real Dividend, Imputation type : mean\n",
      "              Column name : Real Earnings, Imputation type : mean\n",
      "              \n",
      "TYPE:         High cardinality feature detection\n",
      "STATUS:       PASSED\n",
      "DESCRIPTION:  Your inputs were analyzed, and no high cardinality features were detected.\n",
      "\n",
      "****************************************************************************************************\n",
      "Current status: ModelSelection. Beginning model selection.\n",
      "\n",
      "****************************************************************************************************\n",
      "ITERATION: The iteration being evaluated.\n",
      "PIPELINE: A summary description of the pipeline being evaluated.\n",
      "DURATION: Time taken for the current iteration.\n",
      "METRIC: The result of computing score on the fitted pipeline.\n",
      "BEST: The best observed score thus far.\n",
      "****************************************************************************************************\n",
      "\n",
      " ITERATION   PIPELINE                                       DURATION      METRIC      BEST\n",
      "         0   MaxAbsScaler LightGBM                          0:00:22       0.9925    0.9925\n",
      "         1   StandardScalerWrapper GradientBoosting         0:00:26       0.9898    0.9925\n",
      "         2   StandardScalerWrapper LightGBM                 0:00:29       0.9935    0.9935\n",
      "         3   MaxAbsScaler LightGBM                          0:00:38       0.9949    0.9949\n",
      "         4   SparseNormalizer RandomForest                  0:01:20       0.9951    0.9951\n",
      "         5   StandardScalerWrapper ElasticNet               0:00:18       0.9914    0.9951\n",
      "         6   StandardScalerWrapper ExtremeRandomTrees       0:00:23       0.9793    0.9951\n",
      "         7   RobustScaler LightGBM                          0:00:36       0.9944    0.9951\n",
      "         8   StandardScalerWrapper LightGBM                 0:00:32       0.9736    0.9951\n",
      "         9   StandardScalerWrapper LightGBM                 0:00:21       0.9952    0.9952\n",
      "        10   StandardScalerWrapper ElasticNet               0:00:32       0.9919    0.9952\n",
      "        11   StandardScalerWrapper ExtremeRandomTrees       0:00:26       0.9836    0.9952\n",
      "        12   RobustScaler ElasticNet                        0:00:18       0.9921    0.9952\n",
      "        13   StandardScalerWrapper ElasticNet               0:00:24       0.9403    0.9952\n",
      "        14   "
     ]
    },
    {
     "name": "stderr",
     "output_type": "stream",
     "text": [
      "WARNING - Retrying (Retry(total=2, connect=None, read=None, redirect=None, status=None)) after connection broken by 'ProtocolError('Connection aborted.', OSError(\"(10054, 'WSAECONNRESET')\"))': /azureml/ExperimentRun/dcid.AutoML_27328928-d2b2-468c-81d7-57e22d39498f_14/outputs/scoring_file_v_1_0_0.py?sv=2019-02-02&sr=b&sig=S7OfHmyWVdmYsEsFg1%2B4UdbF9chIuuzNq%2BD5Vq4qLkY%3D&st=2020-04-24T18%3A20%3A05Z&se=2020-04-25T18%3A30%3A05Z&sp=rcw&comp=block&blockid=TURBd01EQXdNREF3TURBd01EQXdNREF3TURBd01EQXdNREF3TURBd01EQSUzRA%3D%3D&timeout=30\n"
     ]
    },
    {
     "name": "stdout",
     "output_type": "stream",
     "text": [
      "StandardScalerWrapper LassoLars                0:00:38       0.9921    0.9952\n",
      "        15   MaxAbsScaler RandomForest                      0:00:19       0.9759    0.9952\n",
      "        16   StandardScalerWrapper LightGBM                 0:02:46       0.9944    0.9952\n",
      "        17   RobustScaler ElasticNet                        0:00:22       0.9918    0.9952\n",
      "        18   MinMaxScaler ExtremeRandomTrees                0:00:23       0.9899    0.9952\n",
      "        19   MinMaxScaler GradientBoosting                  0:00:28       0.9924    0.9952\n",
      "        20   SparseNormalizer ExtremeRandomTrees            0:00:29       0.8721    0.9952\n",
      "        21   MaxAbsScaler SGD                               0:00:17       0.9683    0.9952\n",
      "        22   "
     ]
    },
    {
     "name": "stderr",
     "output_type": "stream",
     "text": [
      "WARNING - Retrying (Retry(total=2, connect=None, read=None, redirect=None, status=None)) after connection broken by 'ProtocolError('Connection aborted.', OSError(\"(10054, 'WSAECONNRESET')\"))': /azureml/ExperimentRun/dcid.AutoML_27328928-d2b2-468c-81d7-57e22d39498f_22/outputs/model.pkl?sv=2019-02-02&sr=b&sig=2s5bx2ce6TjDK23FBwh5ozHfxT6Ce5xVGMHN3KrghBo%3D&st=2020-04-24T18%3A25%3A52Z&se=2020-04-25T18%3A35%3A52Z&sp=rcw&comp=block&blockid=TURBd01EQXdNREF3TURBd01EQXdNREF3TURBd01EQXdNREF3TURBd01EQSUzRA%3D%3D&timeout=30\n"
     ]
    },
    {
     "name": "stdout",
     "output_type": "stream",
     "text": [
      "StandardScalerWrapper ElasticNet               0:00:37       0.9921    0.9952\n",
      "        23   StandardScalerWrapper ElasticNet               0:00:18       0.9920    0.9952\n",
      "        24   StandardScalerWrapper ElasticNet               0:00:24       0.9921    0.9952\n",
      "        25   StandardScalerWrapper LightGBM                 0:00:25       0.9784    0.9952\n",
      "        26   MaxAbsScaler SGD                               0:00:18       0.9664    0.9952\n",
      "        27   MinMaxScaler ExtremeRandomTrees                0:00:39       0.9912    0.9952\n",
      "        28   StandardScalerWrapper ElasticNet               0:00:18       0.9921    0.9952\n",
      "        29   MaxAbsScaler RandomForest                      0:00:18       0.9754    0.9952\n",
      "        30   TruncatedSVDWrapper LightGBM                   0:00:23       0.9973    0.9973\n",
      "        31   StandardScalerWrapper RandomForest             0:00:23       0.9368    0.9973\n",
      "        32   StandardScalerWrapper LassoLars                0:00:19       0.9921    0.9973\n",
      "        33   MaxAbsScaler DecisionTree                      0:00:34       0.9571    0.9973\n",
      "        34   StandardScalerWrapper RandomForest             0:00:26       0.8810    0.9973\n",
      "        35   MaxAbsScaler LightGBM                          0:00:24       0.9947    0.9973\n",
      "        36   MinMaxScaler RandomForest                      0:00:19       0.9710    0.9973\n",
      "        37   MinMaxScaler LightGBM                          0:00:20       0.9952    0.9973\n",
      "        38   SparseNormalizer LightGBM                      0:00:26       0.9975    0.9975\n",
      "        39   StandardScalerWrapper DecisionTree             0:00:18       0.9852    0.9975\n",
      "        40   MinMaxScaler LightGBM                          0:00:21       0.9934    0.9975\n",
      "        41   RobustScaler ExtremeRandomTrees                0:01:01       0.9846    0.9975\n",
      "        42   StandardScalerWrapper ElasticNet               0:00:24       0.9921    0.9975\n",
      "        43   StandardScalerWrapper RandomForest             0:00:27       0.9767    0.9975\n",
      "        44   RobustScaler RandomForest                      0:00:28       0.9845    0.9975\n",
      "        45   SparseNormalizer LightGBM                      0:00:26       0.9926    0.9975\n",
      "        46   RobustScaler DecisionTree                      0:00:18       0.9891    0.9975\n",
      "        47   MinMaxScaler SGD                               0:00:19       0.1582    0.9975\n",
      "        48   StandardScalerWrapper ElasticNet               0:00:23       0.9922    0.9975\n",
      "        49   RobustScaler ElasticNet                        0:00:29       0.9921    0.9975\n",
      "        50   MaxAbsScaler LightGBM                          0:00:22       0.9928    0.9975\n",
      "        51   MaxAbsScaler ElasticNet                        0:00:18       0.9921    0.9975\n",
      "        52   StandardScalerWrapper ElasticNet               0:00:18       0.9917    0.9975\n",
      "        53   StandardScalerWrapper ExtremeRandomTrees       0:00:39       0.9892    0.9975\n",
      "        54   MinMaxScaler RandomForest                      0:01:48       0.9893    0.9975\n",
      "        55   "
     ]
    },
    {
     "name": "stderr",
     "output_type": "stream",
     "text": [
      "WARNING - Retrying (Retry(total=2, connect=None, read=None, redirect=None, status=None)) after connection broken by 'ProtocolError('Connection aborted.', OSError(\"(10054, 'WSAECONNRESET')\"))': /azureml/ExperimentRun/dcid.AutoML_27328928-d2b2-468c-81d7-57e22d39498f_55/outputs/pipeline_graph.json?sv=2019-02-02&sr=b&sig=P108bFyQDxj7N8rlqY%2FXjQrP%2BM3zefjpbeztPWB8PPU%3D&st=2020-04-24T18%3A41%3A22Z&se=2020-04-25T18%3A51%3A22Z&sp=rcw&comp=block&blockid=TURBd01EQXdNREF3TURBd01EQXdNREF3TURBd01EQXdNREF3TURBd01EQSUzRA%3D%3D&timeout=30\n"
     ]
    },
    {
     "name": "stdout",
     "output_type": "stream",
     "text": [
      "MaxAbsScaler LightGBM                          0:00:39       0.9957    0.9975\n",
      "        56   StandardScalerWrapper ExtremeRandomTrees       0:00:29       0.9899    0.9975\n",
      "        57   MaxAbsScaler ExtremeRandomTrees                0:00:28       0.9856    0.9975\n",
      "        58   VotingEnsemble                                 0:01:38       0.9985    0.9985\n",
      "        59   StackEnsemble                                  0:01:25       0.9975    0.9985\n",
      "Stopping criteria reached at iteration 60. Ending experiment.\n",
      "****************************************************************************************************\n",
      "Current status: BestRunExplainModel. Best run model explanations started\n",
      "Current status: ModelExplanationDataSetSetup. Model explanations data setup completed\n",
      "Current status: EngineeredFeatureExplanations. Computation of engineered features started\n",
      "Current status: EngineeredFeatureExplanations. Computation of engineered features completed\n",
      "Current status: BestRunExplainModel. Best run model explanations completed\n",
      "****************************************************************************************************\n"
     ]
    }
   ],
   "source": [
    "remote_run = experiment.submit(automl_regressor, show_output = True)"
   ]
  },
  {
   "cell_type": "markdown",
   "metadata": {},
   "source": [
    "__From the above result, We can see that our Automl model__\n",
    "> __Imputed missing values.<br>\n",
    "> Used Normalization and Standardization method.<br>\n",
    "> Created a Data Pipeline. <br>\n",
    "> Performed feature extraction Hyper-parameter optimization.<br>\n",
    "> Used loss function on pipeline to compute score.__<br>"
   ]
  },
  {
   "cell_type": "markdown",
   "metadata": {},
   "source": [
    "### Widget for Monitoring Runs:"
   ]
  },
  {
   "cell_type": "code",
   "execution_count": 21,
   "metadata": {},
   "outputs": [
    {
     "data": {
      "application/vnd.jupyter.widget-view+json": {
       "model_id": "9bf6f6139ba3435bbce4365da0a0c550",
       "version_major": 2,
       "version_minor": 0
      },
      "text/plain": [
       "_AutoMLWidget(widget_settings={'childWidgetDisplay': 'popup', 'send_telemetry': False, 'log_level': 'INFO', 's…"
      ]
     },
     "metadata": {},
     "output_type": "display_data"
    },
    {
     "data": {
      "application/aml.mini.widget.v1": "{\"status\": \"Completed\", \"workbench_run_details_uri\": \"https://ml.azure.com/experiments/exp3/runs/AutoML_27328928-d2b2-468c-81d7-57e22d39498f?wsid=/subscriptions/bc1f7dc4-79cb-4394-8562-94464a7af9e5/resourcegroups/automl/workspaces/ADS_Project\", \"run_id\": \"AutoML_27328928-d2b2-468c-81d7-57e22d39498f\", \"run_properties\": {\"run_id\": \"AutoML_27328928-d2b2-468c-81d7-57e22d39498f\", \"created_utc\": \"2020-04-24T18:22:34.482684Z\", \"properties\": {\"num_iterations\": \"1000\", \"training_type\": \"TrainFull\", \"acquisition_function\": \"EI\", \"primary_metric\": \"r2_score\", \"train_split\": \"0\", \"acquisition_parameter\": \"0\", \"num_cross_validation\": \"5\", \"target\": \"local\", \"RawAMLSettingsString\": \"{'name': 'exp3', 'path': '.', 'subscription_id': 'bc1f7dc4-79cb-4394-8562-94464a7af9e5', 'resource_group': 'automl', 'workspace_name': 'ADS_Project', 'region': 'eastus2', 'compute_target': 'local', 'spark_service': None, 'azure_service': 'local', 'iterations': 1000, 'primary_metric': 'r2_score', 'task_type': 'regression', 'data_script': None, 'validation_size': 0.0, 'n_cross_validations': 5, 'y_min': 3.81, 'y_max': 2789.8, 'num_classes': None, 'featurization': 'auto', 'lag_length': 0, 'is_timeseries': False, 'max_cores_per_iteration': 1, 'max_concurrent_iterations': 1, 'iteration_timeout_minutes': None, 'mem_in_mb': None, 'enforce_time_on_windows': True, 'experiment_timeout_minutes': 30, 'experiment_exit_score': None, 'whitelist_models': None, 'blacklist_algos': ['XGBoostRegressor'], 'supported_models': ['ElasticNet', 'SGD', 'DecisionTree', 'FastLinearRegressor', 'KNN', 'LightGBM', 'GradientBoosting', 'TensorFlowLinearRegressor', 'OnlineGradientDescentRegressor', 'LassoLars', 'XGBoostRegressor', 'ExtremeRandomTrees', 'TensorFlowDNN', 'RandomForest'], 'auto_blacklist': True, 'blacklist_samples_reached': False, 'exclude_nan_labels': True, 'verbosity': 20, 'debug_log': 'automl.log', 'show_warnings': False, 'model_explainability': True, 'service_url': None, 'sdk_url': None, 'sdk_packages': None, 'enable_onnx_compatible_models': False, 'enable_split_onnx_featurizer_estimator_models': False, 'vm_type': None, 'telemetry_verbosity': 'INFO', 'send_telemetry': True, 'enable_dnn': False, 'force_text_dnn': False, 'enable_feature_sweeping': True, 'enable_early_stopping': False, 'early_stopping_n_iters': 10, 'metrics': None, 'enable_ensembling': True, 'enable_stack_ensembling': True, 'ensemble_iterations': 15, 'enable_tf': False, 'enable_cache': True, 'enable_subsampling': None, 'subsample_seed': None, 'enable_nimbusml': False, 'enable_streaming': False, 'force_streaming': False, 'label_column_name': 'SP500', 'weight_column_name': None, 'cost_mode': 1, 'metric_operation': 'maximize', 'preprocess': True, 'scenario': 'SDK'}\", \"AMLSettingsJsonString\": \"{\\\"name\\\": \\\"exp3\\\", \\\"path\\\": \\\".\\\", \\\"subscription_id\\\": \\\"bc1f7dc4-79cb-4394-8562-94464a7af9e5\\\", \\\"resource_group\\\": \\\"automl\\\", \\\"workspace_name\\\": \\\"ADS_Project\\\", \\\"region\\\": \\\"eastus2\\\", \\\"compute_target\\\": \\\"local\\\", \\\"spark_service\\\": null, \\\"azure_service\\\": \\\"local\\\", \\\"iterations\\\": 1000, \\\"primary_metric\\\": \\\"r2_score\\\", \\\"task_type\\\": \\\"regression\\\", \\\"data_script\\\": null, \\\"validation_size\\\": 0.0, \\\"n_cross_validations\\\": 5, \\\"y_min\\\": 3.81, \\\"y_max\\\": 2789.8, \\\"num_classes\\\": null, \\\"featurization\\\": \\\"auto\\\", \\\"lag_length\\\": 0, \\\"is_timeseries\\\": false, \\\"max_cores_per_iteration\\\": 1, \\\"max_concurrent_iterations\\\": 1, \\\"iteration_timeout_minutes\\\": null, \\\"mem_in_mb\\\": null, \\\"enforce_time_on_windows\\\": true, \\\"experiment_timeout_minutes\\\": 30, \\\"experiment_exit_score\\\": null, \\\"whitelist_models\\\": null, \\\"blacklist_algos\\\": [\\\"XGBoostRegressor\\\"], \\\"supported_models\\\": [\\\"ElasticNet\\\", \\\"SGD\\\", \\\"DecisionTree\\\", \\\"FastLinearRegressor\\\", \\\"KNN\\\", \\\"LightGBM\\\", \\\"GradientBoosting\\\", \\\"TensorFlowLinearRegressor\\\", \\\"OnlineGradientDescentRegressor\\\", \\\"LassoLars\\\", \\\"XGBoostRegressor\\\", \\\"ExtremeRandomTrees\\\", \\\"TensorFlowDNN\\\", \\\"RandomForest\\\"], \\\"auto_blacklist\\\": true, \\\"blacklist_samples_reached\\\": false, \\\"exclude_nan_labels\\\": true, \\\"verbosity\\\": 20, \\\"debug_log\\\": \\\"automl.log\\\", \\\"show_warnings\\\": false, \\\"model_explainability\\\": true, \\\"service_url\\\": null, \\\"sdk_url\\\": null, \\\"sdk_packages\\\": null, \\\"enable_onnx_compatible_models\\\": false, \\\"enable_split_onnx_featurizer_estimator_models\\\": false, \\\"vm_type\\\": null, \\\"telemetry_verbosity\\\": \\\"INFO\\\", \\\"send_telemetry\\\": true, \\\"enable_dnn\\\": false, \\\"force_text_dnn\\\": false, \\\"enable_feature_sweeping\\\": true, \\\"enable_early_stopping\\\": false, \\\"early_stopping_n_iters\\\": 10, \\\"metrics\\\": null, \\\"enable_ensembling\\\": true, \\\"enable_stack_ensembling\\\": true, \\\"ensemble_iterations\\\": 15, \\\"enable_tf\\\": false, \\\"enable_cache\\\": true, \\\"enable_subsampling\\\": null, \\\"subsample_seed\\\": null, \\\"enable_nimbusml\\\": false, \\\"enable_streaming\\\": false, \\\"force_streaming\\\": false, \\\"label_column_name\\\": \\\"SP500\\\", \\\"weight_column_name\\\": null, \\\"cost_mode\\\": 1, \\\"metric_operation\\\": \\\"maximize\\\", \\\"preprocess\\\": true, \\\"scenario\\\": \\\"SDK\\\"}\", \"DataPrepJsonString\": null, \"EnableSubsampling\": null, \"runTemplate\": \"AutoML\", \"azureml.runsource\": \"automl\", \"display_task_type\": \"regression\", \"dependencies_versions\": \"{\\\"azureml-widgets\\\": \\\"1.2.0\\\", \\\"azureml-train\\\": \\\"1.2.0\\\", \\\"azureml-train-restclients-hyperdrive\\\": \\\"1.2.0\\\", \\\"azureml-train-core\\\": \\\"1.2.0\\\", \\\"azureml-train-automl\\\": \\\"1.2.0\\\", \\\"azureml-train-automl-runtime\\\": \\\"1.2.0\\\", \\\"azureml-train-automl-client\\\": \\\"1.2.0\\\", \\\"azureml-telemetry\\\": \\\"1.2.0\\\", \\\"azureml-sdk\\\": \\\"1.2.0\\\", \\\"azureml-pipeline\\\": \\\"1.2.0\\\", \\\"azureml-pipeline-steps\\\": \\\"1.2.0\\\", \\\"azureml-pipeline-core\\\": \\\"1.2.0\\\", \\\"azureml-opendatasets\\\": \\\"1.3.0\\\", \\\"azureml-model-management-sdk\\\": \\\"1.0.1b6.post1\\\", \\\"azureml-interpret\\\": \\\"1.2.0\\\", \\\"azureml-explain-model\\\": \\\"1.2.0\\\", \\\"azureml-defaults\\\": \\\"1.2.0\\\", \\\"azureml-dataprep\\\": \\\"1.3.6\\\", \\\"azureml-dataprep-native\\\": \\\"14.1.0\\\", \\\"azureml-core\\\": \\\"1.2.0.post3\\\", \\\"azureml-contrib-notebook\\\": \\\"1.2.0\\\", \\\"azureml-automl-runtime\\\": \\\"1.2.0\\\", \\\"azureml-automl-core\\\": \\\"1.2.0\\\"}\", \"ClientType\": \"SDK\", \"environment_cpu_name\": \"\", \"environment_cpu_version\": \"\", \"environment_gpu_name\": \"\", \"environment_gpu_version\": \"\", \"root_attribution\": \"AutoML\", \"attribution\": \"AutoML\", \"CancelUri\": \"https://eastus2.experiments.azureml.net/jasmine/v1.0/subscriptions/bc1f7dc4-79cb-4394-8562-94464a7af9e5/resourceGroups/automl/providers/Microsoft.MachineLearningServices/workspaces/ADS_Project/experiment/exp3/cancel/AutoML_27328928-d2b2-468c-81d7-57e22d39498f\", \"ClientSdkVersion\": \"1.2.0\", \"ProblemInfoJsonString\": \"{\\\"dataset_num_categorical\\\": 0, \\\"is_sparse\\\": false, \\\"subsampling\\\": false, \\\"dataset_classes\\\": 1238, \\\"dataset_features\\\": 8, \\\"dataset_samples\\\": 1483, \\\"single_frequency_class_detected\\\": false}\", \"feature_skus\": \"automatedml_sdk_guardrails\"}, \"tags\": {\"model_explain_run\": \"best_run\", \"dynamic_whitelisting_iterations\": \"<25>;<30>;<35>;<40>;<45>;<50>;<55>;\", \"model_explain_best_run_child_id\": \"AutoML_27328928-d2b2-468c-81d7-57e22d39498f_58\", \"best_score\": \"0.9984850975435661\", \"best_pipeline\": \"VotingEnsemble\", \"automl_best_child_run_id\": \"AutoML_27328928-d2b2-468c-81d7-57e22d39498f_58\"}, \"end_time_utc\": \"2020-04-24T18:56:07.715154Z\", \"status\": \"Completed\", \"log_files\": {}, \"log_groups\": [], \"run_duration\": \"0:33:33\"}, \"child_runs\": [{\"run_id\": \"AutoML_27328928-d2b2-468c-81d7-57e22d39498f_0\", \"run_number\": 2, \"metric\": null, \"status\": \"Completed\", \"run_type\": null, \"training_percent\": \"100\", \"start_time\": \"2020-04-24T18:22:40.200022Z\", \"end_time\": \"2020-04-24T18:22:59.287507Z\", \"created_time\": \"2020-04-24T18:22:38.290243Z\", \"created_time_dt\": \"2020-04-24T18:22:38.290243Z\", \"duration\": \"0:00:20\", \"iteration\": \"0\", \"goal\": \"r2_score_max\", \"run_name\": \"MaxAbsScaler, LightGBM\", \"run_properties\": \"copy=True\", \"primary_metric\": 0.99252614, \"best_metric\": 0.99252614}, {\"run_id\": \"AutoML_27328928-d2b2-468c-81d7-57e22d39498f_1\", \"run_number\": 3, \"metric\": null, \"status\": \"Completed\", \"run_type\": null, \"training_percent\": \"100\", \"start_time\": \"2020-04-24T18:23:02.539511Z\", \"end_time\": \"2020-04-24T18:23:26.556084Z\", \"created_time\": \"2020-04-24T18:23:00.742557Z\", \"created_time_dt\": \"2020-04-24T18:23:00.742557Z\", \"duration\": \"0:00:25\", \"iteration\": \"1\", \"goal\": \"r2_score_max\", \"run_name\": \"StandardScalerWrapper, GradientBoosting\", \"run_properties\": \"<azureml.automl.runtime.shared.model_wrappers.StandardScalerWrapper object at 0x0000010FAD8C24A8\", \"primary_metric\": 0.98977608, \"best_metric\": 0.99252614}, {\"run_id\": \"AutoML_27328928-d2b2-468c-81d7-57e22d39498f_2\", \"run_number\": 4, \"metric\": null, \"status\": \"Completed\", \"run_type\": null, \"training_percent\": \"100\", \"start_time\": \"2020-04-24T18:23:29.922999Z\", \"end_time\": \"2020-04-24T18:23:53.982699Z\", \"created_time\": \"2020-04-24T18:23:28.162229Z\", \"created_time_dt\": \"2020-04-24T18:23:28.162229Z\", \"duration\": \"0:00:25\", \"iteration\": \"2\", \"goal\": \"r2_score_max\", \"run_name\": \"StandardScalerWrapper, LightGBM\", \"run_properties\": \"<azureml.automl.runtime.shared.model_wrappers.StandardScalerWrapper object at 0x0000010FAEC22BA8\", \"primary_metric\": 0.99348667, \"best_metric\": 0.99348667}, {\"run_id\": \"AutoML_27328928-d2b2-468c-81d7-57e22d39498f_3\", \"run_number\": 5, \"metric\": null, \"status\": \"Completed\", \"run_type\": null, \"training_percent\": \"100\", \"start_time\": \"2020-04-24T18:24:00.735846Z\", \"end_time\": \"2020-04-24T18:24:34.82204Z\", \"created_time\": \"2020-04-24T18:23:57.863446Z\", \"created_time_dt\": \"2020-04-24T18:23:57.863446Z\", \"duration\": \"0:00:36\", \"iteration\": \"3\", \"goal\": \"r2_score_max\", \"run_name\": \"MaxAbsScaler, LightGBM\", \"run_properties\": \"copy=True\", \"primary_metric\": 0.99494762, \"best_metric\": 0.99494762}, {\"run_id\": \"AutoML_27328928-d2b2-468c-81d7-57e22d39498f_4\", \"run_number\": 6, \"metric\": null, \"status\": \"Completed\", \"run_type\": null, \"training_percent\": \"100\", \"start_time\": \"2020-04-24T18:24:38.076711Z\", \"end_time\": \"2020-04-24T18:25:55.038338Z\", \"created_time\": \"2020-04-24T18:24:36.230207Z\", \"created_time_dt\": \"2020-04-24T18:24:36.230207Z\", \"duration\": \"0:01:18\", \"iteration\": \"4\", \"goal\": \"r2_score_max\", \"run_name\": \"SparseNormalizer, RandomForest\", \"run_properties\": \"<azureml.automl.runtime.shared.model_wrappers.SparseNormalizer object at 0x0000010FAF25C240\", \"primary_metric\": 0.99508821, \"best_metric\": 0.99508821}, {\"run_id\": \"AutoML_27328928-d2b2-468c-81d7-57e22d39498f_5\", \"run_number\": 7, \"metric\": null, \"status\": \"Completed\", \"run_type\": null, \"training_percent\": \"100\", \"start_time\": \"2020-04-24T18:25:57.42991Z\", \"end_time\": \"2020-04-24T18:26:13.6655Z\", \"created_time\": \"2020-04-24T18:25:55.653179Z\", \"created_time_dt\": \"2020-04-24T18:25:55.653179Z\", \"duration\": \"0:00:18\", \"iteration\": \"5\", \"goal\": \"r2_score_max\", \"run_name\": \"StandardScalerWrapper, ElasticNet\", \"run_properties\": \"<azureml.automl.runtime.shared.model_wrappers.StandardScalerWrapper object at 0x0000010FAF13E0B8\", \"primary_metric\": 0.99144017, \"best_metric\": 0.99508821}, {\"run_id\": \"AutoML_27328928-d2b2-468c-81d7-57e22d39498f_6\", \"run_number\": 8, \"metric\": null, \"status\": \"Completed\", \"run_type\": null, \"training_percent\": \"100\", \"start_time\": \"2020-04-24T18:26:16.494828Z\", \"end_time\": \"2020-04-24T18:26:37.383601Z\", \"created_time\": \"2020-04-24T18:26:14.680356Z\", \"created_time_dt\": \"2020-04-24T18:26:14.680356Z\", \"duration\": \"0:00:22\", \"iteration\": \"6\", \"goal\": \"r2_score_max\", \"run_name\": \"StandardScalerWrapper, ExtremeRandomTrees\", \"run_properties\": \"<azureml.automl.runtime.shared.model_wrappers.StandardScalerWrapper object at 0x0000010FAEC515C0\", \"primary_metric\": 0.97931539, \"best_metric\": 0.99508821}, {\"run_id\": \"AutoML_27328928-d2b2-468c-81d7-57e22d39498f_7\", \"run_number\": 9, \"metric\": null, \"status\": \"Completed\", \"run_type\": null, \"training_percent\": \"100\", \"start_time\": \"2020-04-24T18:26:40.925086Z\", \"end_time\": \"2020-04-24T18:27:13.447514Z\", \"created_time\": \"2020-04-24T18:26:38.930293Z\", \"created_time_dt\": \"2020-04-24T18:26:38.930293Z\", \"duration\": \"0:00:34\", \"iteration\": \"7\", \"goal\": \"r2_score_max\", \"run_name\": \"RobustScaler, LightGBM\", \"run_properties\": \"copy=True, quantile_range=[25, 75], with_centering=True,\\n       with_scaling=False\", \"primary_metric\": 0.99439672, \"best_metric\": 0.99508821}, {\"run_id\": \"AutoML_27328928-d2b2-468c-81d7-57e22d39498f_8\", \"run_number\": 10, \"metric\": null, \"status\": \"Completed\", \"run_type\": null, \"training_percent\": \"100\", \"start_time\": \"2020-04-24T18:27:17.581844Z\", \"end_time\": \"2020-04-24T18:27:46.952843Z\", \"created_time\": \"2020-04-24T18:27:15.388848Z\", \"created_time_dt\": \"2020-04-24T18:27:15.388848Z\", \"duration\": \"0:00:31\", \"iteration\": \"8\", \"goal\": \"r2_score_max\", \"run_name\": \"StandardScalerWrapper, LightGBM\", \"run_properties\": \"<azureml.automl.runtime.shared.model_wrappers.StandardScalerWrapper object at 0x0000010FAEF077F0\", \"primary_metric\": 0.97355966, \"best_metric\": 0.99508821}, {\"run_id\": \"AutoML_27328928-d2b2-468c-81d7-57e22d39498f_9\", \"run_number\": 11, \"metric\": null, \"status\": \"Completed\", \"run_type\": null, \"training_percent\": \"100\", \"start_time\": \"2020-04-24T18:27:50.206399Z\", \"end_time\": \"2020-04-24T18:28:08.184944Z\", \"created_time\": \"2020-04-24T18:27:48.368431Z\", \"created_time_dt\": \"2020-04-24T18:27:48.368431Z\", \"duration\": \"0:00:19\", \"iteration\": \"9\", \"goal\": \"r2_score_max\", \"run_name\": \"StandardScalerWrapper, LightGBM\", \"run_properties\": \"<azureml.automl.runtime.shared.model_wrappers.StandardScalerWrapper object at 0x0000010FAEF07A90\", \"primary_metric\": 0.99516704, \"best_metric\": 0.99516704}, {\"run_id\": \"AutoML_27328928-d2b2-468c-81d7-57e22d39498f_10\", \"run_number\": 12, \"metric\": null, \"status\": \"Completed\", \"run_type\": null, \"training_percent\": \"100\", \"start_time\": \"2020-04-24T18:28:11.723076Z\", \"end_time\": \"2020-04-24T18:28:39.485665Z\", \"created_time\": \"2020-04-24T18:28:09.561077Z\", \"created_time_dt\": \"2020-04-24T18:28:09.561077Z\", \"duration\": \"0:00:29\", \"iteration\": \"10\", \"goal\": \"r2_score_max\", \"run_name\": \"StandardScalerWrapper, ElasticNet\", \"run_properties\": \"<azureml.automl.runtime.shared.model_wrappers.StandardScalerWrapper object at 0x0000010FAEE66A90\", \"primary_metric\": 0.99189022, \"best_metric\": 0.99516704}, {\"run_id\": \"AutoML_27328928-d2b2-468c-81d7-57e22d39498f_11\", \"run_number\": 13, \"metric\": null, \"status\": \"Completed\", \"run_type\": null, \"training_percent\": \"100\", \"start_time\": \"2020-04-24T18:28:44.604754Z\", \"end_time\": \"2020-04-24T18:29:07.81346Z\", \"created_time\": \"2020-04-24T18:28:42.411699Z\", \"created_time_dt\": \"2020-04-24T18:28:42.411699Z\", \"duration\": \"0:00:25\", \"iteration\": \"11\", \"goal\": \"r2_score_max\", \"run_name\": \"StandardScalerWrapper, ExtremeRandomTrees\", \"run_properties\": \"<azureml.automl.runtime.shared.model_wrappers.StandardScalerWrapper object at 0x0000010FAEF0D5F8\", \"primary_metric\": 0.98355774, \"best_metric\": 0.99516704}, {\"run_id\": \"AutoML_27328928-d2b2-468c-81d7-57e22d39498f_12\", \"run_number\": 14, \"metric\": null, \"status\": \"Completed\", \"run_type\": null, \"training_percent\": \"100\", \"start_time\": \"2020-04-24T18:29:11.715099Z\", \"end_time\": \"2020-04-24T18:29:26.466117Z\", \"created_time\": \"2020-04-24T18:29:09.882869Z\", \"created_time_dt\": \"2020-04-24T18:29:09.882869Z\", \"duration\": \"0:00:16\", \"iteration\": \"12\", \"goal\": \"r2_score_max\", \"run_name\": \"RobustScaler, ElasticNet\", \"run_properties\": \"copy=True, quantile_range=[10, 90], with_centering=False,\\n       with_scaling=False\", \"primary_metric\": 0.99214672, \"best_metric\": 0.99516704}, {\"run_id\": \"AutoML_27328928-d2b2-468c-81d7-57e22d39498f_13\", \"run_number\": 15, \"metric\": null, \"status\": \"Completed\", \"run_type\": null, \"training_percent\": \"100\", \"start_time\": \"2020-04-24T18:29:29.430831Z\", \"end_time\": \"2020-04-24T18:29:50.962806Z\", \"created_time\": \"2020-04-24T18:29:27.642926Z\", \"created_time_dt\": \"2020-04-24T18:29:27.642926Z\", \"duration\": \"0:00:23\", \"iteration\": \"13\", \"goal\": \"r2_score_max\", \"run_name\": \"StandardScalerWrapper, ElasticNet\", \"run_properties\": \"<azureml.automl.runtime.shared.model_wrappers.StandardScalerWrapper object at 0x0000010FAECBC5C0\", \"primary_metric\": 0.94026346, \"best_metric\": 0.99516704}, {\"run_id\": \"AutoML_27328928-d2b2-468c-81d7-57e22d39498f_14\", \"run_number\": 16, \"metric\": null, \"status\": \"Completed\", \"run_type\": null, \"training_percent\": \"100\", \"start_time\": \"2020-04-24T18:29:54.852305Z\", \"end_time\": \"2020-04-24T18:30:29.374329Z\", \"created_time\": \"2020-04-24T18:29:52.981362Z\", \"created_time_dt\": \"2020-04-24T18:29:52.981362Z\", \"duration\": \"0:00:36\", \"iteration\": \"14\", \"goal\": \"r2_score_max\", \"run_name\": \"StandardScalerWrapper, LassoLars\", \"run_properties\": \"<azureml.automl.runtime.shared.model_wrappers.StandardScalerWrapper object at 0x0000010FAEDBD710\", \"primary_metric\": 0.99212973, \"best_metric\": 0.99516704}, {\"run_id\": \"AutoML_27328928-d2b2-468c-81d7-57e22d39498f_15\", \"run_number\": 17, \"metric\": null, \"status\": \"Completed\", \"run_type\": null, \"training_percent\": \"100\", \"start_time\": \"2020-04-24T18:30:32.317974Z\", \"end_time\": \"2020-04-24T18:30:49.237851Z\", \"created_time\": \"2020-04-24T18:30:30.42276Z\", \"created_time_dt\": \"2020-04-24T18:30:30.42276Z\", \"duration\": \"0:00:18\", \"iteration\": \"15\", \"goal\": \"r2_score_max\", \"run_name\": \"MaxAbsScaler, RandomForest\", \"run_properties\": \"copy=True\", \"primary_metric\": 0.9758599, \"best_metric\": 0.99516704}, {\"run_id\": \"AutoML_27328928-d2b2-468c-81d7-57e22d39498f_16\", \"run_number\": 18, \"metric\": null, \"status\": \"Completed\", \"run_type\": null, \"training_percent\": \"100\", \"start_time\": \"2020-04-24T18:30:51.586578Z\", \"end_time\": \"2020-04-24T18:33:35.331003Z\", \"created_time\": \"2020-04-24T18:30:49.763343Z\", \"created_time_dt\": \"2020-04-24T18:30:49.763343Z\", \"duration\": \"0:02:45\", \"iteration\": \"16\", \"goal\": \"r2_score_max\", \"run_name\": \"StandardScalerWrapper, LightGBM\", \"run_properties\": \"<azureml.automl.runtime.shared.model_wrappers.StandardScalerWrapper object at 0x0000010FAF2878D0\", \"primary_metric\": 0.99437806, \"best_metric\": 0.99516704}, {\"run_id\": \"AutoML_27328928-d2b2-468c-81d7-57e22d39498f_17\", \"run_number\": 19, \"metric\": null, \"status\": \"Completed\", \"run_type\": null, \"training_percent\": \"100\", \"start_time\": \"2020-04-24T18:33:38.014554Z\", \"end_time\": \"2020-04-24T18:33:58.586621Z\", \"created_time\": \"2020-04-24T18:33:36.167797Z\", \"created_time_dt\": \"2020-04-24T18:33:36.167797Z\", \"duration\": \"0:00:22\", \"iteration\": \"17\", \"goal\": \"r2_score_max\", \"run_name\": \"RobustScaler, ElasticNet\", \"run_properties\": \"copy=True, quantile_range=[25, 75], with_centering=True,\\n       with_scaling=True\", \"primary_metric\": 0.99180897, \"best_metric\": 0.99516704}, {\"run_id\": \"AutoML_27328928-d2b2-468c-81d7-57e22d39498f_18\", \"run_number\": 20, \"metric\": null, \"status\": \"Completed\", \"run_type\": null, \"training_percent\": \"100\", \"start_time\": \"2020-04-24T18:34:01.039241Z\", \"end_time\": \"2020-04-24T18:34:22.379645Z\", \"created_time\": \"2020-04-24T18:33:59.285905Z\", \"created_time_dt\": \"2020-04-24T18:33:59.285905Z\", \"duration\": \"0:00:23\", \"iteration\": \"18\", \"goal\": \"r2_score_max\", \"run_name\": \"MinMaxScaler, ExtremeRandomTrees\", \"run_properties\": \"copy=True, feature_range=(0, 1\", \"primary_metric\": 0.98989828, \"best_metric\": 0.99516704}, {\"run_id\": \"AutoML_27328928-d2b2-468c-81d7-57e22d39498f_19\", \"run_number\": 21, \"metric\": null, \"status\": \"Completed\", \"run_type\": null, \"training_percent\": \"100\", \"start_time\": \"2020-04-24T18:34:26.292773Z\", \"end_time\": \"2020-04-24T18:34:50.471645Z\", \"created_time\": \"2020-04-24T18:34:24.216232Z\", \"created_time_dt\": \"2020-04-24T18:34:24.216232Z\", \"duration\": \"0:00:26\", \"iteration\": \"19\", \"goal\": \"r2_score_max\", \"run_name\": \"MinMaxScaler, GradientBoosting\", \"run_properties\": \"copy=True, feature_range=(0, 1\", \"primary_metric\": 0.99235906, \"best_metric\": 0.99516704}, {\"run_id\": \"AutoML_27328928-d2b2-468c-81d7-57e22d39498f_20\", \"run_number\": 22, \"metric\": null, \"status\": \"Completed\", \"run_type\": null, \"training_percent\": \"100\", \"start_time\": \"2020-04-24T18:34:53.180162Z\", \"end_time\": \"2020-04-24T18:35:20.120965Z\", \"created_time\": \"2020-04-24T18:34:50.956383Z\", \"created_time_dt\": \"2020-04-24T18:34:50.956383Z\", \"duration\": \"0:00:29\", \"iteration\": \"20\", \"goal\": \"r2_score_max\", \"run_name\": \"SparseNormalizer, ExtremeRandomTrees\", \"run_properties\": \"<azureml.automl.runtime.shared.model_wrappers.SparseNormalizer object at 0x0000010FAEF70C50\", \"primary_metric\": 0.87207991, \"best_metric\": 0.99516704}, {\"run_id\": \"AutoML_27328928-d2b2-468c-81d7-57e22d39498f_21\", \"run_number\": 23, \"metric\": null, \"status\": \"Completed\", \"run_type\": null, \"training_percent\": \"100\", \"start_time\": \"2020-04-24T18:35:22.964028Z\", \"end_time\": \"2020-04-24T18:35:37.772674Z\", \"created_time\": \"2020-04-24T18:35:21.189494Z\", \"created_time_dt\": \"2020-04-24T18:35:21.189494Z\", \"duration\": \"0:00:16\", \"iteration\": \"21\", \"goal\": \"r2_score_max\", \"run_name\": \"MaxAbsScaler, SGD\", \"run_properties\": \"copy=True\", \"primary_metric\": 0.96833287, \"best_metric\": 0.99516704}, {\"run_id\": \"AutoML_27328928-d2b2-468c-81d7-57e22d39498f_22\", \"run_number\": 24, \"metric\": null, \"status\": \"Completed\", \"run_type\": null, \"training_percent\": \"100\", \"start_time\": \"2020-04-24T18:35:40.931987Z\", \"end_time\": \"2020-04-24T18:36:15.84549Z\", \"created_time\": \"2020-04-24T18:35:39.041098Z\", \"created_time_dt\": \"2020-04-24T18:35:39.041098Z\", \"duration\": \"0:00:36\", \"iteration\": \"22\", \"goal\": \"r2_score_max\", \"run_name\": \"StandardScalerWrapper, ElasticNet\", \"run_properties\": \"<azureml.automl.runtime.shared.model_wrappers.StandardScalerWrapper object at 0x0000010FAFB0EEF0\", \"primary_metric\": 0.99205308, \"best_metric\": 0.99516704}, {\"run_id\": \"AutoML_27328928-d2b2-468c-81d7-57e22d39498f_23\", \"run_number\": 25, \"metric\": null, \"status\": \"Completed\", \"run_type\": null, \"training_percent\": \"100\", \"start_time\": \"2020-04-24T18:36:18.913771Z\", \"end_time\": \"2020-04-24T18:36:34.391599Z\", \"created_time\": \"2020-04-24T18:36:17.076073Z\", \"created_time_dt\": \"2020-04-24T18:36:17.076073Z\", \"duration\": \"0:00:17\", \"iteration\": \"23\", \"goal\": \"r2_score_max\", \"run_name\": \"StandardScalerWrapper, ElasticNet\", \"run_properties\": \"<azureml.automl.runtime.shared.model_wrappers.StandardScalerWrapper object at 0x0000010FAFA35EF0\", \"primary_metric\": 0.99195093, \"best_metric\": 0.99516704}, {\"run_id\": \"AutoML_27328928-d2b2-468c-81d7-57e22d39498f_24\", \"run_number\": 26, \"metric\": null, \"status\": \"Completed\", \"run_type\": null, \"training_percent\": \"100\", \"start_time\": \"2020-04-24T18:36:38.37846Z\", \"end_time\": \"2020-04-24T18:36:58.593293Z\", \"created_time\": \"2020-04-24T18:36:36.558853Z\", \"created_time_dt\": \"2020-04-24T18:36:36.558853Z\", \"duration\": \"0:00:22\", \"iteration\": \"24\", \"goal\": \"r2_score_max\", \"run_name\": \"StandardScalerWrapper, ElasticNet\", \"run_properties\": \"<azureml.automl.runtime.shared.model_wrappers.StandardScalerWrapper object at 0x0000010FAF0414E0\", \"primary_metric\": 0.99210964, \"best_metric\": 0.99516704}, {\"run_id\": \"AutoML_27328928-d2b2-468c-81d7-57e22d39498f_25\", \"run_number\": 27, \"metric\": null, \"status\": \"Completed\", \"run_type\": null, \"training_percent\": \"100\", \"start_time\": \"2020-04-24T18:37:01.680404Z\", \"end_time\": \"2020-04-24T18:37:23.772337Z\", \"created_time\": \"2020-04-24T18:36:59.837007Z\", \"created_time_dt\": \"2020-04-24T18:36:59.837007Z\", \"duration\": \"0:00:23\", \"iteration\": \"25\", \"goal\": \"r2_score_max\", \"run_name\": \"StandardScalerWrapper, LightGBM\", \"run_properties\": \"<azureml.automl.runtime.shared.model_wrappers.StandardScalerWrapper object at 0x0000010FAEE667B8\", \"primary_metric\": 0.97841546, \"best_metric\": 0.99516704}, {\"run_id\": \"AutoML_27328928-d2b2-468c-81d7-57e22d39498f_26\", \"run_number\": 28, \"metric\": null, \"status\": \"Completed\", \"run_type\": null, \"training_percent\": \"100\", \"start_time\": \"2020-04-24T18:37:26.535854Z\", \"end_time\": \"2020-04-24T18:37:41.826873Z\", \"created_time\": \"2020-04-24T18:37:24.744298Z\", \"created_time_dt\": \"2020-04-24T18:37:24.744298Z\", \"duration\": \"0:00:17\", \"iteration\": \"26\", \"goal\": \"r2_score_max\", \"run_name\": \"MaxAbsScaler, SGD\", \"run_properties\": \"copy=True\", \"primary_metric\": 0.96643233, \"best_metric\": 0.99516704}, {\"run_id\": \"AutoML_27328928-d2b2-468c-81d7-57e22d39498f_27\", \"run_number\": 29, \"metric\": null, \"status\": \"Completed\", \"run_type\": null, \"training_percent\": \"100\", \"start_time\": \"2020-04-24T18:37:45.510542Z\", \"end_time\": \"2020-04-24T18:38:21.970028Z\", \"created_time\": \"2020-04-24T18:37:43.632418Z\", \"created_time_dt\": \"2020-04-24T18:37:43.632418Z\", \"duration\": \"0:00:38\", \"iteration\": \"27\", \"goal\": \"r2_score_max\", \"run_name\": \"MinMaxScaler, ExtremeRandomTrees\", \"run_properties\": \"copy=True, feature_range=(0, 1\", \"primary_metric\": 0.99123808, \"best_metric\": 0.99516704}, {\"run_id\": \"AutoML_27328928-d2b2-468c-81d7-57e22d39498f_28\", \"run_number\": 30, \"metric\": null, \"status\": \"Completed\", \"run_type\": null, \"training_percent\": \"100\", \"start_time\": \"2020-04-24T18:38:25.515298Z\", \"end_time\": \"2020-04-24T18:38:40.377004Z\", \"created_time\": \"2020-04-24T18:38:23.423169Z\", \"created_time_dt\": \"2020-04-24T18:38:23.423169Z\", \"duration\": \"0:00:16\", \"iteration\": \"28\", \"goal\": \"r2_score_max\", \"run_name\": \"StandardScalerWrapper, ElasticNet\", \"run_properties\": \"<azureml.automl.runtime.shared.model_wrappers.StandardScalerWrapper object at 0x0000010FAFA6A3C8\", \"primary_metric\": 0.9921464, \"best_metric\": 0.99516704}, {\"run_id\": \"AutoML_27328928-d2b2-468c-81d7-57e22d39498f_29\", \"run_number\": 31, \"metric\": null, \"status\": \"Completed\", \"run_type\": null, \"training_percent\": \"100\", \"start_time\": \"2020-04-24T18:38:43.898713Z\", \"end_time\": \"2020-04-24T18:38:59.106458Z\", \"created_time\": \"2020-04-24T18:38:42.146513Z\", \"created_time_dt\": \"2020-04-24T18:38:42.146513Z\", \"duration\": \"0:00:16\", \"iteration\": \"29\", \"goal\": \"r2_score_max\", \"run_name\": \"MaxAbsScaler, RandomForest\", \"run_properties\": \"copy=True\", \"primary_metric\": 0.97544728, \"best_metric\": 0.99516704}, {\"run_id\": \"AutoML_27328928-d2b2-468c-81d7-57e22d39498f_30\", \"run_number\": 32, \"metric\": null, \"status\": \"Completed\", \"run_type\": null, \"training_percent\": \"100\", \"start_time\": \"2020-04-24T18:39:02.422159Z\", \"end_time\": \"2020-04-24T18:39:22.173538Z\", \"created_time\": \"2020-04-24T18:39:00.499253Z\", \"created_time_dt\": \"2020-04-24T18:39:00.499253Z\", \"duration\": \"0:00:21\", \"iteration\": \"30\", \"goal\": \"r2_score_max\", \"run_name\": \"TruncatedSVDWrapper, LightGBM\", \"run_properties\": \"n_components=0.8015789473684211, random_state=None\", \"primary_metric\": 0.99729597, \"best_metric\": 0.99729597}, {\"run_id\": \"AutoML_27328928-d2b2-468c-81d7-57e22d39498f_31\", \"run_number\": 33, \"metric\": null, \"status\": \"Completed\", \"run_type\": null, \"training_percent\": \"100\", \"start_time\": \"2020-04-24T18:39:24.913997Z\", \"end_time\": \"2020-04-24T18:39:45.713571Z\", \"created_time\": \"2020-04-24T18:39:23.135168Z\", \"created_time_dt\": \"2020-04-24T18:39:23.135168Z\", \"duration\": \"0:00:22\", \"iteration\": \"31\", \"goal\": \"r2_score_max\", \"run_name\": \"StandardScalerWrapper, RandomForest\", \"run_properties\": \"<azureml.automl.runtime.shared.model_wrappers.StandardScalerWrapper object at 0x0000010FAF2FEBA8\", \"primary_metric\": 0.93675928, \"best_metric\": 0.99729597}, {\"run_id\": \"AutoML_27328928-d2b2-468c-81d7-57e22d39498f_32\", \"run_number\": 34, \"metric\": null, \"status\": \"Completed\", \"run_type\": null, \"training_percent\": \"100\", \"start_time\": \"2020-04-24T18:39:49.747422Z\", \"end_time\": \"2020-04-24T18:40:05.977715Z\", \"created_time\": \"2020-04-24T18:39:47.517692Z\", \"created_time_dt\": \"2020-04-24T18:39:47.517692Z\", \"duration\": \"0:00:18\", \"iteration\": \"32\", \"goal\": \"r2_score_max\", \"run_name\": \"StandardScalerWrapper, LassoLars\", \"run_properties\": \"<azureml.automl.runtime.shared.model_wrappers.StandardScalerWrapper object at 0x0000010FAF087518\", \"primary_metric\": 0.99212337, \"best_metric\": 0.99729597}, {\"run_id\": \"AutoML_27328928-d2b2-468c-81d7-57e22d39498f_33\", \"run_number\": 35, \"metric\": null, \"status\": \"Completed\", \"run_type\": null, \"training_percent\": \"100\", \"start_time\": \"2020-04-24T18:40:09.545305Z\", \"end_time\": \"2020-04-24T18:40:29.326408Z\", \"created_time\": \"2020-04-24T18:40:07.461857Z\", \"created_time_dt\": \"2020-04-24T18:40:07.461857Z\", \"duration\": \"0:00:21\", \"iteration\": \"33\", \"goal\": \"r2_score_max\", \"run_name\": \"MaxAbsScaler, DecisionTree\", \"run_properties\": \"copy=True\", \"primary_metric\": 0.95712929, \"best_metric\": 0.99729597}, {\"run_id\": \"AutoML_27328928-d2b2-468c-81d7-57e22d39498f_34\", \"run_number\": 36, \"metric\": null, \"status\": \"Completed\", \"run_type\": null, \"training_percent\": \"100\", \"start_time\": \"2020-04-24T18:40:44.599606Z\", \"end_time\": \"2020-04-24T18:41:07.077145Z\", \"created_time\": \"2020-04-24T18:40:42.731531Z\", \"created_time_dt\": \"2020-04-24T18:40:42.731531Z\", \"duration\": \"0:00:24\", \"iteration\": \"34\", \"goal\": \"r2_score_max\", \"run_name\": \"StandardScalerWrapper, RandomForest\", \"run_properties\": \"<azureml.automl.runtime.shared.model_wrappers.StandardScalerWrapper object at 0x0000010FAFA62550\", \"primary_metric\": 0.88100007, \"best_metric\": 0.99729597}, {\"run_id\": \"AutoML_27328928-d2b2-468c-81d7-57e22d39498f_35\", \"run_number\": 37, \"metric\": null, \"status\": \"Completed\", \"run_type\": null, \"training_percent\": \"100\", \"start_time\": \"2020-04-24T18:41:10.070797Z\", \"end_time\": \"2020-04-24T18:41:31.683239Z\", \"created_time\": \"2020-04-24T18:41:08.252981Z\", \"created_time_dt\": \"2020-04-24T18:41:08.252981Z\", \"duration\": \"0:00:23\", \"iteration\": \"35\", \"goal\": \"r2_score_max\", \"run_name\": \"MaxAbsScaler, LightGBM\", \"run_properties\": \"copy=True\", \"primary_metric\": 0.99469239, \"best_metric\": 0.99729597}, {\"run_id\": \"AutoML_27328928-d2b2-468c-81d7-57e22d39498f_36\", \"run_number\": 38, \"metric\": null, \"status\": \"Completed\", \"run_type\": null, \"training_percent\": \"100\", \"start_time\": \"2020-04-24T18:41:34.610717Z\", \"end_time\": \"2020-04-24T18:41:51.606729Z\", \"created_time\": \"2020-04-24T18:41:32.853773Z\", \"created_time_dt\": \"2020-04-24T18:41:32.853773Z\", \"duration\": \"0:00:18\", \"iteration\": \"36\", \"goal\": \"r2_score_max\", \"run_name\": \"MinMaxScaler, RandomForest\", \"run_properties\": \"copy=True, feature_range=(0, 1\", \"primary_metric\": 0.97100205, \"best_metric\": 0.99729597}, {\"run_id\": \"AutoML_27328928-d2b2-468c-81d7-57e22d39498f_37\", \"run_number\": 39, \"metric\": null, \"status\": \"Completed\", \"run_type\": null, \"training_percent\": \"100\", \"start_time\": \"2020-04-24T18:41:56.483925Z\", \"end_time\": \"2020-04-24T18:42:12.141709Z\", \"created_time\": \"2020-04-24T18:41:53.957246Z\", \"created_time_dt\": \"2020-04-24T18:41:53.957246Z\", \"duration\": \"0:00:18\", \"iteration\": \"37\", \"goal\": \"r2_score_max\", \"run_name\": \"MinMaxScaler, LightGBM\", \"run_properties\": \"copy=True, feature_range=(0, 1\", \"primary_metric\": 0.99517497, \"best_metric\": 0.99729597}, {\"run_id\": \"AutoML_27328928-d2b2-468c-81d7-57e22d39498f_38\", \"run_number\": 40, \"metric\": null, \"status\": \"Completed\", \"run_type\": null, \"training_percent\": \"100\", \"start_time\": \"2020-04-24T18:42:15.939723Z\", \"end_time\": \"2020-04-24T18:42:38.864385Z\", \"created_time\": \"2020-04-24T18:42:13.585642Z\", \"created_time_dt\": \"2020-04-24T18:42:13.585642Z\", \"duration\": \"0:00:25\", \"iteration\": \"38\", \"goal\": \"r2_score_max\", \"run_name\": \"SparseNormalizer, LightGBM\", \"run_properties\": \"<azureml.automl.runtime.shared.model_wrappers.SparseNormalizer object at 0x0000010FAEE6DF28\", \"primary_metric\": 0.99751455, \"best_metric\": 0.99751455}, {\"run_id\": \"AutoML_27328928-d2b2-468c-81d7-57e22d39498f_39\", \"run_number\": 41, \"metric\": null, \"status\": \"Completed\", \"run_type\": null, \"training_percent\": \"100\", \"start_time\": \"2020-04-24T18:42:43.031839Z\", \"end_time\": \"2020-04-24T18:42:57.802245Z\", \"created_time\": \"2020-04-24T18:42:41.182067Z\", \"created_time_dt\": \"2020-04-24T18:42:41.182067Z\", \"duration\": \"0:00:16\", \"iteration\": \"39\", \"goal\": \"r2_score_max\", \"run_name\": \"StandardScalerWrapper, DecisionTree\", \"run_properties\": \"<azureml.automl.runtime.shared.model_wrappers.StandardScalerWrapper object at 0x0000010FAF879710\", \"primary_metric\": 0.98520215, \"best_metric\": 0.99751455}, {\"run_id\": \"AutoML_27328928-d2b2-468c-81d7-57e22d39498f_40\", \"run_number\": 42, \"metric\": null, \"status\": \"Completed\", \"run_type\": null, \"training_percent\": \"100\", \"start_time\": \"2020-04-24T18:43:00.962375Z\", \"end_time\": \"2020-04-24T18:43:18.892283Z\", \"created_time\": \"2020-04-24T18:42:59.090863Z\", \"created_time_dt\": \"2020-04-24T18:42:59.090863Z\", \"duration\": \"0:00:19\", \"iteration\": \"40\", \"goal\": \"r2_score_max\", \"run_name\": \"MinMaxScaler, LightGBM\", \"run_properties\": \"copy=True, feature_range=(0, 1\", \"primary_metric\": 0.99340546, \"best_metric\": 0.99751455}, {\"run_id\": \"AutoML_27328928-d2b2-468c-81d7-57e22d39498f_41\", \"run_number\": 43, \"metric\": null, \"status\": \"Completed\", \"run_type\": null, \"training_percent\": \"100\", \"start_time\": \"2020-04-24T18:43:23.444221Z\", \"end_time\": \"2020-04-24T18:44:20.7104Z\", \"created_time\": \"2020-04-24T18:43:21.304665Z\", \"created_time_dt\": \"2020-04-24T18:43:21.304665Z\", \"duration\": \"0:00:59\", \"iteration\": \"41\", \"goal\": \"r2_score_max\", \"run_name\": \"RobustScaler, ExtremeRandomTrees\", \"run_properties\": \"copy=True, quantile_range=[25, 75], with_centering=True,\\n       with_scaling=True\", \"primary_metric\": 0.98462514, \"best_metric\": 0.99751455}, {\"run_id\": \"AutoML_27328928-d2b2-468c-81d7-57e22d39498f_42\", \"run_number\": 44, \"metric\": null, \"status\": \"Completed\", \"run_type\": null, \"training_percent\": \"100\", \"start_time\": \"2020-04-24T18:44:25.5381Z\", \"end_time\": \"2020-04-24T18:44:46.277392Z\", \"created_time\": \"2020-04-24T18:44:23.44168Z\", \"created_time_dt\": \"2020-04-24T18:44:23.44168Z\", \"duration\": \"0:00:22\", \"iteration\": \"42\", \"goal\": \"r2_score_max\", \"run_name\": \"StandardScalerWrapper, ElasticNet\", \"run_properties\": \"<azureml.automl.runtime.shared.model_wrappers.StandardScalerWrapper object at 0x0000010FAFA2ECF8\", \"primary_metric\": 0.99209741, \"best_metric\": 0.99751455}, {\"run_id\": \"AutoML_27328928-d2b2-468c-81d7-57e22d39498f_43\", \"run_number\": 45, \"metric\": null, \"status\": \"Completed\", \"run_type\": null, \"training_percent\": \"100\", \"start_time\": \"2020-04-24T18:44:49.279947Z\", \"end_time\": \"2020-04-24T18:45:13.652154Z\", \"created_time\": \"2020-04-24T18:44:47.438095Z\", \"created_time_dt\": \"2020-04-24T18:44:47.438095Z\", \"duration\": \"0:00:26\", \"iteration\": \"43\", \"goal\": \"r2_score_max\", \"run_name\": \"StandardScalerWrapper, RandomForest\", \"run_properties\": \"<azureml.automl.runtime.shared.model_wrappers.StandardScalerWrapper object at 0x0000010FAFC655C0\", \"primary_metric\": 0.97667417, \"best_metric\": 0.99751455}, {\"run_id\": \"AutoML_27328928-d2b2-468c-81d7-57e22d39498f_44\", \"run_number\": 46, \"metric\": null, \"status\": \"Completed\", \"run_type\": null, \"training_percent\": \"100\", \"start_time\": \"2020-04-24T18:45:17.874843Z\", \"end_time\": \"2020-04-24T18:45:42.478113Z\", \"created_time\": \"2020-04-24T18:45:16.038989Z\", \"created_time_dt\": \"2020-04-24T18:45:16.038989Z\", \"duration\": \"0:00:26\", \"iteration\": \"44\", \"goal\": \"r2_score_max\", \"run_name\": \"RobustScaler, RandomForest\", \"run_properties\": \"copy=True, quantile_range=[25, 75], with_centering=False,\\n       with_scaling=False\", \"primary_metric\": 0.98448191, \"best_metric\": 0.99751455}, {\"run_id\": \"AutoML_27328928-d2b2-468c-81d7-57e22d39498f_45\", \"run_number\": 47, \"metric\": null, \"status\": \"Completed\", \"run_type\": null, \"training_percent\": \"100\", \"start_time\": \"2020-04-24T18:45:45.539221Z\", \"end_time\": \"2020-04-24T18:46:09.097588Z\", \"created_time\": \"2020-04-24T18:45:43.75803Z\", \"created_time_dt\": \"2020-04-24T18:45:43.75803Z\", \"duration\": \"0:00:25\", \"iteration\": \"45\", \"goal\": \"r2_score_max\", \"run_name\": \"SparseNormalizer, LightGBM\", \"run_properties\": \"<azureml.automl.runtime.shared.model_wrappers.SparseNormalizer object at 0x0000010FAF122CF8\", \"primary_metric\": 0.992606, \"best_metric\": 0.99751455}, {\"run_id\": \"AutoML_27328928-d2b2-468c-81d7-57e22d39498f_46\", \"run_number\": 48, \"metric\": null, \"status\": \"Completed\", \"run_type\": null, \"training_percent\": \"100\", \"start_time\": \"2020-04-24T18:46:12.17472Z\", \"end_time\": \"2020-04-24T18:46:27.889234Z\", \"created_time\": \"2020-04-24T18:46:10.300015Z\", \"created_time_dt\": \"2020-04-24T18:46:10.300015Z\", \"duration\": \"0:00:17\", \"iteration\": \"46\", \"goal\": \"r2_score_max\", \"run_name\": \"RobustScaler, DecisionTree\", \"run_properties\": \"copy=True, quantile_range=[25, 75], with_centering=False,\\n       with_scaling=True\", \"primary_metric\": 0.98910381, \"best_metric\": 0.99751455}, {\"run_id\": \"AutoML_27328928-d2b2-468c-81d7-57e22d39498f_47\", \"run_number\": 49, \"metric\": null, \"status\": \"Completed\", \"run_type\": null, \"training_percent\": \"100\", \"start_time\": \"2020-04-24T18:46:31.47392Z\", \"end_time\": \"2020-04-24T18:46:47.091974Z\", \"created_time\": \"2020-04-24T18:46:29.633672Z\", \"created_time_dt\": \"2020-04-24T18:46:29.633672Z\", \"duration\": \"0:00:17\", \"iteration\": \"47\", \"goal\": \"r2_score_max\", \"run_name\": \"MinMaxScaler, SGD\", \"run_properties\": \"copy=True, feature_range=(0, 1\", \"primary_metric\": 0.15820111, \"best_metric\": 0.99751455}, {\"run_id\": \"AutoML_27328928-d2b2-468c-81d7-57e22d39498f_48\", \"run_number\": 50, \"metric\": null, \"status\": \"Completed\", \"run_type\": null, \"training_percent\": \"100\", \"start_time\": \"2020-04-24T18:46:50.839413Z\", \"end_time\": \"2020-04-24T18:47:10.792656Z\", \"created_time\": \"2020-04-24T18:46:49.027723Z\", \"created_time_dt\": \"2020-04-24T18:46:49.027723Z\", \"duration\": \"0:00:21\", \"iteration\": \"48\", \"goal\": \"r2_score_max\", \"run_name\": \"StandardScalerWrapper, ElasticNet\", \"run_properties\": \"<azureml.automl.runtime.shared.model_wrappers.StandardScalerWrapper object at 0x0000010FAF01F390\", \"primary_metric\": 0.99216219, \"best_metric\": 0.99751455}, {\"run_id\": \"AutoML_27328928-d2b2-468c-81d7-57e22d39498f_49\", \"run_number\": 51, \"metric\": null, \"status\": \"Completed\", \"run_type\": null, \"training_percent\": \"100\", \"start_time\": \"2020-04-24T18:47:15.064355Z\", \"end_time\": \"2020-04-24T18:47:36.627296Z\", \"created_time\": \"2020-04-24T18:47:12.86254Z\", \"created_time_dt\": \"2020-04-24T18:47:12.86254Z\", \"duration\": \"0:00:23\", \"iteration\": \"49\", \"goal\": \"r2_score_max\", \"run_name\": \"RobustScaler, ElasticNet\", \"run_properties\": \"copy=True, quantile_range=[25, 75], with_centering=True,\\n       with_scaling=False\", \"primary_metric\": 0.99213951, \"best_metric\": 0.99751455}, {\"run_id\": \"AutoML_27328928-d2b2-468c-81d7-57e22d39498f_50\", \"run_number\": 52, \"metric\": null, \"status\": \"Completed\", \"run_type\": null, \"training_percent\": \"100\", \"start_time\": \"2020-04-24T18:47:43.706633Z\", \"end_time\": \"2020-04-24T18:48:02.911465Z\", \"created_time\": \"2020-04-24T18:47:41.932088Z\", \"created_time_dt\": \"2020-04-24T18:47:41.932088Z\", \"duration\": \"0:00:20\", \"iteration\": \"50\", \"goal\": \"r2_score_max\", \"run_name\": \"MaxAbsScaler, LightGBM\", \"run_properties\": \"copy=True\", \"primary_metric\": 0.9927759, \"best_metric\": 0.99751455}, {\"run_id\": \"AutoML_27328928-d2b2-468c-81d7-57e22d39498f_51\", \"run_number\": 53, \"metric\": null, \"status\": \"Completed\", \"run_type\": null, \"training_percent\": \"100\", \"start_time\": \"2020-04-24T18:48:06.666064Z\", \"end_time\": \"2020-04-24T18:48:21.796314Z\", \"created_time\": \"2020-04-24T18:48:04.578706Z\", \"created_time_dt\": \"2020-04-24T18:48:04.578706Z\", \"duration\": \"0:00:17\", \"iteration\": \"51\", \"goal\": \"r2_score_max\", \"run_name\": \"MaxAbsScaler, ElasticNet\", \"run_properties\": \"copy=True\", \"primary_metric\": 0.99212147, \"best_metric\": 0.99751455}, {\"run_id\": \"AutoML_27328928-d2b2-468c-81d7-57e22d39498f_52\", \"run_number\": 54, \"metric\": null, \"status\": \"Completed\", \"run_type\": null, \"training_percent\": \"100\", \"start_time\": \"2020-04-24T18:48:25.26147Z\", \"end_time\": \"2020-04-24T18:48:40.016936Z\", \"created_time\": \"2020-04-24T18:48:23.463513Z\", \"created_time_dt\": \"2020-04-24T18:48:23.463513Z\", \"duration\": \"0:00:16\", \"iteration\": \"52\", \"goal\": \"r2_score_max\", \"run_name\": \"StandardScalerWrapper, ElasticNet\", \"run_properties\": \"<azureml.automl.runtime.shared.model_wrappers.StandardScalerWrapper object at 0x0000010FAF0EA7B8\", \"primary_metric\": 0.99170673, \"best_metric\": 0.99751455}, {\"run_id\": \"AutoML_27328928-d2b2-468c-81d7-57e22d39498f_53\", \"run_number\": 55, \"metric\": null, \"status\": \"Completed\", \"run_type\": null, \"training_percent\": \"100\", \"start_time\": \"2020-04-24T18:48:43.550578Z\", \"end_time\": \"2020-04-24T18:49:19.311396Z\", \"created_time\": \"2020-04-24T18:48:41.752798Z\", \"created_time_dt\": \"2020-04-24T18:48:41.752798Z\", \"duration\": \"0:00:37\", \"iteration\": \"53\", \"goal\": \"r2_score_max\", \"run_name\": \"StandardScalerWrapper, ExtremeRandomTrees\", \"run_properties\": \"<azureml.automl.runtime.shared.model_wrappers.StandardScalerWrapper object at 0x0000010FAED81198\", \"primary_metric\": 0.9892481, \"best_metric\": 0.99751455}, {\"run_id\": \"AutoML_27328928-d2b2-468c-81d7-57e22d39498f_54\", \"run_number\": 56, \"metric\": null, \"status\": \"Completed\", \"run_type\": null, \"training_percent\": \"100\", \"start_time\": \"2020-04-24T18:49:22.766326Z\", \"end_time\": \"2020-04-24T18:51:05.789351Z\", \"created_time\": \"2020-04-24T18:49:20.933202Z\", \"created_time_dt\": \"2020-04-24T18:49:20.933202Z\", \"duration\": \"0:01:44\", \"iteration\": \"54\", \"goal\": \"r2_score_max\", \"run_name\": \"MinMaxScaler, RandomForest\", \"run_properties\": \"copy=True, feature_range=(0, 1\", \"primary_metric\": 0.98931594, \"best_metric\": 0.99751455}, {\"run_id\": \"AutoML_27328928-d2b2-468c-81d7-57e22d39498f_55\", \"run_number\": 57, \"metric\": null, \"status\": \"Completed\", \"run_type\": null, \"training_percent\": \"100\", \"start_time\": \"2020-04-24T18:51:11.056196Z\", \"end_time\": \"2020-04-24T18:51:47.505936Z\", \"created_time\": \"2020-04-24T18:51:09.278889Z\", \"created_time_dt\": \"2020-04-24T18:51:09.278889Z\", \"duration\": \"0:00:38\", \"iteration\": \"55\", \"goal\": \"r2_score_max\", \"run_name\": \"MaxAbsScaler, LightGBM\", \"run_properties\": \"copy=True\", \"primary_metric\": 0.99574868, \"best_metric\": 0.99751455}, {\"run_id\": \"AutoML_27328928-d2b2-468c-81d7-57e22d39498f_56\", \"run_number\": 58, \"metric\": null, \"status\": \"Completed\", \"run_type\": null, \"training_percent\": \"100\", \"start_time\": \"2020-04-24T18:51:50.758945Z\", \"end_time\": \"2020-04-24T18:52:17.534375Z\", \"created_time\": \"2020-04-24T18:51:48.997054Z\", \"created_time_dt\": \"2020-04-24T18:51:48.997054Z\", \"duration\": \"0:00:28\", \"iteration\": \"56\", \"goal\": \"r2_score_max\", \"run_name\": \"StandardScalerWrapper, ExtremeRandomTrees\", \"run_properties\": \"<azureml.automl.runtime.shared.model_wrappers.StandardScalerWrapper object at 0x0000010FAFCF8128\", \"primary_metric\": 0.98989043, \"best_metric\": 0.99751455}, {\"run_id\": \"AutoML_27328928-d2b2-468c-81d7-57e22d39498f_57\", \"run_number\": 59, \"metric\": null, \"status\": \"Completed\", \"run_type\": null, \"training_percent\": \"100\", \"start_time\": \"2020-04-24T18:52:21.323754Z\", \"end_time\": \"2020-04-24T18:52:46.769793Z\", \"created_time\": \"2020-04-24T18:52:19.483995Z\", \"created_time_dt\": \"2020-04-24T18:52:19.483995Z\", \"duration\": \"0:00:27\", \"iteration\": \"57\", \"goal\": \"r2_score_max\", \"run_name\": \"MaxAbsScaler, ExtremeRandomTrees\", \"run_properties\": \"copy=True\", \"primary_metric\": 0.98561757, \"best_metric\": 0.99751455}, {\"run_id\": \"AutoML_27328928-d2b2-468c-81d7-57e22d39498f_58\", \"run_number\": 60, \"metric\": null, \"status\": \"Completed\", \"run_type\": null, \"training_percent\": \"100\", \"start_time\": \"2020-04-24T18:52:48.329052Z\", \"end_time\": \"2020-04-24T18:54:23.748312Z\", \"created_time\": \"2020-04-24T18:52:46.557457Z\", \"created_time_dt\": \"2020-04-24T18:52:46.557457Z\", \"duration\": \"0:01:37\", \"iteration\": \"58\", \"goal\": \"r2_score_max\", \"run_name\": \"VotingEnsemble\", \"run_properties\": \"estimators=[('38', Pipeline(memory=None,\\n     steps=[('sparsenormalizer', <azureml.automl.runtime.shared.model_wrappers.SparseNormalizer object at 0x0000010FB01AE358>\", \"primary_metric\": 0.9984851, \"best_metric\": 0.9984851}, {\"run_id\": \"AutoML_27328928-d2b2-468c-81d7-57e22d39498f_59\", \"run_number\": 61, \"metric\": null, \"status\": \"Completed\", \"run_type\": null, \"training_percent\": \"100\", \"start_time\": \"2020-04-24T18:54:28.395361Z\", \"end_time\": \"2020-04-24T18:55:50.425545Z\", \"created_time\": \"2020-04-24T18:54:26.343717Z\", \"created_time_dt\": \"2020-04-24T18:54:26.343717Z\", \"duration\": \"0:01:24\", \"iteration\": \"59\", \"goal\": \"r2_score_max\", \"run_name\": \"StackEnsemble\", \"run_properties\": \"base_learners=[('38', Pipeline(memory=None,\\n     steps=[('sparsenormalizer', <azureml.automl.runtime.shared.model_wrappers.SparseNormalizer object at 0x0000010FAECA67F0>\", \"primary_metric\": 0.99753282, \"best_metric\": 0.9984851}], \"children_metrics\": {\"categories\": [0], \"series\": {\"mean_absolute_error\": [{\"categories\": [\"0\", \"1\", \"2\", \"3\", \"4\", \"5\", \"6\", \"7\", \"8\", \"9\", \"10\", \"11\", \"12\", \"13\", \"14\", \"15\", \"16\", \"17\", \"18\", \"19\", \"20\", \"21\", \"22\", \"23\", \"24\", \"25\", \"26\", \"27\", \"28\", \"29\", \"30\", \"31\", \"32\", \"33\", \"34\", \"35\", \"36\", \"37\", \"38\", \"39\", \"40\", \"41\", \"42\", \"43\", \"44\", \"45\", \"46\", \"47\", \"48\", \"49\", \"50\", \"51\", \"52\", \"53\", \"54\", \"55\", \"56\", \"57\", \"58\", \"59\"], \"mode\": \"markers\", \"name\": \"mean_absolute_error\", \"stepped\": false, \"type\": \"scatter\", \"data\": [7.632016445784733, 8.882214414512738, 5.470517860065288, 9.046883803792705, 13.240606902528341, 29.37818107885996, 24.950471397112203, 6.457503307070143, 29.072559275179763, 7.957750444209023, 27.61725405114489, 16.176255313316027, 27.219932151692852, 81.41442154393184, 27.17101704430228, 20.316946273259262, 7.262612487106841, 27.081726125258662, 10.42429750695392, 6.566348299055818, 83.02254445936526, 61.702018446570776, 27.78651294110181, 28.095682044850026, 27.060693908064685, 24.590917153144364, 63.70999547895959, 6.766563589652911, 27.421483227754955, 24.134599983516047, 8.52374514813865, 46.82215463755014, 27.14246359887619, 35.02844365096623, 65.79109379123204, 6.597053766848279, 29.82637219672863, 9.535434046429334, 10.195826744564037, 19.40212462734811, 7.488030749841599, 13.410132255663047, 27.17504990536177, 23.15333780155071, 14.06077731097822, 23.209467630204305, 19.780672263172267, 208.68075667269787, 27.300691043974165, 27.165434019426847, 6.128722993721636, 27.155021180278176, 28.72777734946414, 9.7095633920987, 7.934786422914537, 8.023424064192543, 7.041777310929811, 13.383992496132493, 5.990524177296993, 6.533802647502799]}, {\"categories\": [\"0\", \"1\", \"2\", \"3\", \"4\", \"5\", \"6\", \"7\", \"8\", \"9\", \"10\", \"11\", \"12\", \"13\", \"14\", \"15\", \"16\", \"17\", \"18\", \"19\", \"20\", \"21\", \"22\", \"23\", \"24\", \"25\", \"26\", \"27\", \"28\", \"29\", \"30\", \"31\", \"32\", \"33\", \"34\", \"35\", \"36\", \"37\", \"38\", \"39\", \"40\", \"41\", \"42\", \"43\", \"44\", \"45\", \"46\", \"47\", \"48\", \"49\", \"50\", \"51\", \"52\", \"53\", \"54\", \"55\", \"56\", \"57\", \"58\", \"59\"], \"mode\": \"lines\", \"name\": \"mean_absolute_error_min\", \"stepped\": true, \"type\": \"scatter\", \"data\": [7.632016445784733, 7.632016445784733, 5.470517860065288, 5.470517860065288, 5.470517860065288, 5.470517860065288, 5.470517860065288, 5.470517860065288, 5.470517860065288, 5.470517860065288, 5.470517860065288, 5.470517860065288, 5.470517860065288, 5.470517860065288, 5.470517860065288, 5.470517860065288, 5.470517860065288, 5.470517860065288, 5.470517860065288, 5.470517860065288, 5.470517860065288, 5.470517860065288, 5.470517860065288, 5.470517860065288, 5.470517860065288, 5.470517860065288, 5.470517860065288, 5.470517860065288, 5.470517860065288, 5.470517860065288, 5.470517860065288, 5.470517860065288, 5.470517860065288, 5.470517860065288, 5.470517860065288, 5.470517860065288, 5.470517860065288, 5.470517860065288, 5.470517860065288, 5.470517860065288, 5.470517860065288, 5.470517860065288, 5.470517860065288, 5.470517860065288, 5.470517860065288, 5.470517860065288, 5.470517860065288, 5.470517860065288, 5.470517860065288, 5.470517860065288, 5.470517860065288, 5.470517860065288, 5.470517860065288, 5.470517860065288, 5.470517860065288, 5.470517860065288, 5.470517860065288, 5.470517860065288, 5.470517860065288, 5.470517860065288]}], \"normalized_mean_absolute_error\": [{\"categories\": [\"0\", \"1\", \"2\", \"3\", \"4\", \"5\", \"6\", \"7\", \"8\", \"9\", \"10\", \"11\", \"12\", \"13\", \"14\", \"15\", \"16\", \"17\", \"18\", \"19\", \"20\", \"21\", \"22\", \"23\", \"24\", \"25\", \"26\", \"27\", \"28\", \"29\", \"30\", \"31\", \"32\", \"33\", \"34\", \"35\", \"36\", \"37\", \"38\", \"39\", \"40\", \"41\", \"42\", \"43\", \"44\", \"45\", \"46\", \"47\", \"48\", \"49\", \"50\", \"51\", \"52\", \"53\", \"54\", \"55\", \"56\", \"57\", \"58\", \"59\"], \"mode\": \"markers\", \"name\": \"normalized_mean_absolute_error\", \"stepped\": false, \"type\": \"scatter\", \"data\": [0.002739427078268311, 0.003188171678474344, 0.001963581297874468, 0.003247277916931757, 0.004752567992896005, 0.010544970038966383, 0.00895569309190349, 0.002317848702640764, 0.010435270505342719, 0.0028563456596071854, 0.009912904946229128, 0.005806286208247705, 0.009770290687221723, 0.029222797477353412, 0.009752733155647463, 0.007292540990189935, 0.0026068336523486593, 0.009720683177347606, 0.003741685184424179, 0.0023569173970674046, 0.029800015240315024, 0.02214725050935961, 0.009973658534704652, 0.01008463133207586, 0.009713133897847687, 0.008826635111089545, 0.022867991442524768, 0.0024287824398698163, 0.009842635195300396, 0.008662845158638775, 0.0030595031382519853, 0.01680628955507742, 0.009742484215261428, 0.012573068694060718, 0.023614978442575908, 0.002367938781850717, 0.01070584323587975, 0.0034226375709996565, 0.003659678155544003, 0.006964175975989903, 0.0026877450205641798, 0.0048134172253536615, 0.009754180706090751, 0.008310632055948048, 0.005046959002357588, 0.008330779231154562, 0.0071000514227158975, 0.0749036273183672, 0.009799278189790402, 0.00975072919121276, 0.00219983668057733, 0.00974699161887809, 0.010311514883206377, 0.003485139355165919, 0.002848102980597395, 0.002879918472138286, 0.002527567331874777, 0.004804034650566761, 0.0021502317586556277, 0.0023452354988721417]}, {\"categories\": [\"0\", \"1\", \"2\", \"3\", \"4\", \"5\", \"6\", \"7\", \"8\", \"9\", \"10\", \"11\", \"12\", \"13\", \"14\", \"15\", \"16\", \"17\", \"18\", \"19\", \"20\", \"21\", \"22\", \"23\", \"24\", \"25\", \"26\", \"27\", \"28\", \"29\", \"30\", \"31\", \"32\", \"33\", \"34\", \"35\", \"36\", \"37\", \"38\", \"39\", \"40\", \"41\", \"42\", \"43\", \"44\", \"45\", \"46\", \"47\", \"48\", \"49\", \"50\", \"51\", \"52\", \"53\", \"54\", \"55\", \"56\", \"57\", \"58\", \"59\"], \"mode\": \"lines\", \"name\": \"normalized_mean_absolute_error_min\", \"stepped\": true, \"type\": \"scatter\", \"data\": [0.002739427078268311, 0.002739427078268311, 0.001963581297874468, 0.001963581297874468, 0.001963581297874468, 0.001963581297874468, 0.001963581297874468, 0.001963581297874468, 0.001963581297874468, 0.001963581297874468, 0.001963581297874468, 0.001963581297874468, 0.001963581297874468, 0.001963581297874468, 0.001963581297874468, 0.001963581297874468, 0.001963581297874468, 0.001963581297874468, 0.001963581297874468, 0.001963581297874468, 0.001963581297874468, 0.001963581297874468, 0.001963581297874468, 0.001963581297874468, 0.001963581297874468, 0.001963581297874468, 0.001963581297874468, 0.001963581297874468, 0.001963581297874468, 0.001963581297874468, 0.001963581297874468, 0.001963581297874468, 0.001963581297874468, 0.001963581297874468, 0.001963581297874468, 0.001963581297874468, 0.001963581297874468, 0.001963581297874468, 0.001963581297874468, 0.001963581297874468, 0.001963581297874468, 0.001963581297874468, 0.001963581297874468, 0.001963581297874468, 0.001963581297874468, 0.001963581297874468, 0.001963581297874468, 0.001963581297874468, 0.001963581297874468, 0.001963581297874468, 0.001963581297874468, 0.001963581297874468, 0.001963581297874468, 0.001963581297874468, 0.001963581297874468, 0.001963581297874468, 0.001963581297874468, 0.001963581297874468, 0.001963581297874468, 0.001963581297874468]}], \"normalized_root_mean_squared_log_error\": [{\"categories\": [\"0\", \"1\", \"2\", \"3\", \"4\", \"5\", \"6\", \"7\", \"8\", \"9\", \"10\", \"11\", \"12\", \"13\", \"14\", \"15\", \"16\", \"17\", \"18\", \"19\", \"20\", \"21\", \"22\", \"23\", \"24\", \"25\", \"26\", \"27\", \"28\", \"29\", \"30\", \"31\", \"32\", \"33\", \"34\", \"35\", \"36\", \"37\", \"38\", \"39\", \"40\", \"41\", \"42\", \"43\", \"44\", \"45\", \"46\", \"47\", \"48\", \"49\", \"50\", \"51\", \"52\", \"53\", \"54\", \"55\", \"56\", \"57\", \"58\", \"59\"], \"mode\": \"markers\", \"name\": \"normalized_root_mean_squared_log_error\", \"stepped\": false, \"type\": \"scatter\", \"data\": [0.007970281438553696, 0.010019088603731987, 0.007299606726323601, 0.022408111472454712, 0.013760122185535587, NaN, 0.0817039065292188, 0.008478411542441857, 0.02233810613179651, 0.013176737619136703, NaN, 0.018044116726594513, NaN, NaN, NaN, 0.03627700024822525, 0.007362912629889922, NaN, 0.00957555556745632, 0.014811533750628885, 0.09934747237155017, NaN, NaN, NaN, NaN, 0.037774488776421436, NaN, 0.006985895421199056, NaN, 0.017854926796792715, 0.027246790804929647, 0.029303875744867768, NaN, 0.030751716244364957, 0.03448584929625411, 0.01621636779488719, 0.023263826986601045, 0.015705174675338288, 0.024502465531632087, 0.01596871721992641, 0.015011968054868175, 0.012113975737694628, NaN, 0.016191472246102245, 0.011294822865269847, NaN, 0.017922300787836333, 0.13285891929002125, NaN, NaN, 0.010013523679637627, NaN, NaN, 0.00886269079231577, 0.007511255414035067, 0.014882641252776047, 0.006902889293893423, 0.013947915242055806, 0.016557858422201588, 0.021840707365871948]}, {\"categories\": [\"0\", \"1\", \"2\", \"3\", \"4\", \"5\", \"6\", \"7\", \"8\", \"9\", \"10\", \"11\", \"12\", \"13\", \"14\", \"15\", \"16\", \"17\", \"18\", \"19\", \"20\", \"21\", \"22\", \"23\", \"24\", \"25\", \"26\", \"27\", \"28\", \"29\", \"30\", \"31\", \"32\", \"33\", \"34\", \"35\", \"36\", \"37\", \"38\", \"39\", \"40\", \"41\", \"42\", \"43\", \"44\", \"45\", \"46\", \"47\", \"48\", \"49\", \"50\", \"51\", \"52\", \"53\", \"54\", \"55\", \"56\", \"57\", \"58\", \"59\"], \"mode\": \"lines\", \"name\": \"normalized_root_mean_squared_log_error_min\", \"stepped\": true, \"type\": \"scatter\", \"data\": [0.007970281438553696, 0.007970281438553696, 0.007299606726323601, 0.007299606726323601, 0.007299606726323601, 0.007299606726323601, 0.007299606726323601, 0.007299606726323601, 0.007299606726323601, 0.007299606726323601, 0.007299606726323601, 0.007299606726323601, 0.007299606726323601, 0.007299606726323601, 0.007299606726323601, 0.007299606726323601, 0.007299606726323601, 0.007299606726323601, 0.007299606726323601, 0.007299606726323601, 0.007299606726323601, 0.007299606726323601, 0.007299606726323601, 0.007299606726323601, 0.007299606726323601, 0.007299606726323601, 0.007299606726323601, 0.006985895421199056, 0.006985895421199056, 0.006985895421199056, 0.006985895421199056, 0.006985895421199056, 0.006985895421199056, 0.006985895421199056, 0.006985895421199056, 0.006985895421199056, 0.006985895421199056, 0.006985895421199056, 0.006985895421199056, 0.006985895421199056, 0.006985895421199056, 0.006985895421199056, 0.006985895421199056, 0.006985895421199056, 0.006985895421199056, 0.006985895421199056, 0.006985895421199056, 0.006985895421199056, 0.006985895421199056, 0.006985895421199056, 0.006985895421199056, 0.006985895421199056, 0.006985895421199056, 0.006985895421199056, 0.006985895421199056, 0.006985895421199056, 0.006902889293893423, 0.006902889293893423, 0.006902889293893423, 0.006902889293893423]}], \"median_absolute_error\": [{\"categories\": [\"0\", \"1\", \"2\", \"3\", \"4\", \"5\", \"6\", \"7\", \"8\", \"9\", \"10\", \"11\", \"12\", \"13\", \"14\", \"15\", \"16\", \"17\", \"18\", \"19\", \"20\", \"21\", \"22\", \"23\", \"24\", \"25\", \"26\", \"27\", \"28\", \"29\", \"30\", \"31\", \"32\", \"33\", \"34\", \"35\", \"36\", \"37\", \"38\", \"39\", \"40\", \"41\", \"42\", \"43\", \"44\", \"45\", \"46\", \"47\", \"48\", \"49\", \"50\", \"51\", \"52\", \"53\", \"54\", \"55\", \"56\", \"57\", \"58\", \"59\"], \"mode\": \"markers\", \"name\": \"median_absolute_error\", \"stepped\": false, \"type\": \"scatter\", \"data\": [0.5442387434460265, 0.7136343541144801, 0.6690868294350626, 1.5066453636307453, 1.1923391790407134, 22.747698434843834, 9.988558395583507, 0.6528091426145481, 1.8223571124433637, 1.1366078931015389, 23.18649805524337, 1.4323049905162866, 21.56042720734947, 55.192676528547324, 21.785224408827226, 1.8870337682176614, 0.6232077306063106, 22.302405387253135, 0.7898904397584727, 1.1652472734991146, 22.54824750313678, 46.74319512152432, 21.887913001226348, 22.070853233158665, 21.56149650222725, 3.2330385291901735, 48.81121081934989, 0.4265858968945249, 21.46925839636416, 1.9080292678459336, 1.9503556461882574, 3.7375140071582593, 21.40580871969179, 3.275739432857935, 3.2954862043728594, 1.5724302031619468, 2.6046679712027636, 1.3066334334287188, 1.9052425023561923, 1.680001517090919, 1.103333366311539, 1.094109590737253, 22.073665632697363, 1.7249540452394019, 1.0946935232135373, 8.22938614810908, 1.6630000000000003, 9.917517337425823, 21.44779504148756, 21.71644713301391, 0.8654454440237895, 21.95214005938188, 22.222860859719063, 0.7394682491284132, 0.5588319924401062, 0.989799447965406, 0.47809603318903565, 1.397609999999999, 1.178155592050818, 1.6755875107813671]}, {\"categories\": [\"0\", \"1\", \"2\", \"3\", \"4\", \"5\", \"6\", \"7\", \"8\", \"9\", \"10\", \"11\", \"12\", \"13\", \"14\", \"15\", \"16\", \"17\", \"18\", \"19\", \"20\", \"21\", \"22\", \"23\", \"24\", \"25\", \"26\", \"27\", \"28\", \"29\", \"30\", \"31\", \"32\", \"33\", \"34\", \"35\", \"36\", \"37\", \"38\", \"39\", \"40\", \"41\", \"42\", \"43\", \"44\", \"45\", \"46\", \"47\", \"48\", \"49\", \"50\", \"51\", \"52\", \"53\", \"54\", \"55\", \"56\", \"57\", \"58\", \"59\"], \"mode\": \"lines\", \"name\": \"median_absolute_error_min\", \"stepped\": true, \"type\": \"scatter\", \"data\": [0.5442387434460265, 0.5442387434460265, 0.5442387434460265, 0.5442387434460265, 0.5442387434460265, 0.5442387434460265, 0.5442387434460265, 0.5442387434460265, 0.5442387434460265, 0.5442387434460265, 0.5442387434460265, 0.5442387434460265, 0.5442387434460265, 0.5442387434460265, 0.5442387434460265, 0.5442387434460265, 0.5442387434460265, 0.5442387434460265, 0.5442387434460265, 0.5442387434460265, 0.5442387434460265, 0.5442387434460265, 0.5442387434460265, 0.5442387434460265, 0.5442387434460265, 0.5442387434460265, 0.5442387434460265, 0.4265858968945249, 0.4265858968945249, 0.4265858968945249, 0.4265858968945249, 0.4265858968945249, 0.4265858968945249, 0.4265858968945249, 0.4265858968945249, 0.4265858968945249, 0.4265858968945249, 0.4265858968945249, 0.4265858968945249, 0.4265858968945249, 0.4265858968945249, 0.4265858968945249, 0.4265858968945249, 0.4265858968945249, 0.4265858968945249, 0.4265858968945249, 0.4265858968945249, 0.4265858968945249, 0.4265858968945249, 0.4265858968945249, 0.4265858968945249, 0.4265858968945249, 0.4265858968945249, 0.4265858968945249, 0.4265858968945249, 0.4265858968945249, 0.4265858968945249, 0.4265858968945249, 0.4265858968945249, 0.4265858968945249]}], \"explained_variance\": [{\"categories\": [\"0\", \"1\", \"2\", \"3\", \"4\", \"5\", \"6\", \"7\", \"8\", \"9\", \"10\", \"11\", \"12\", \"13\", \"14\", \"15\", \"16\", \"17\", \"18\", \"19\", \"20\", \"21\", \"22\", \"23\", \"24\", \"25\", \"26\", \"27\", \"28\", \"29\", \"30\", \"31\", \"32\", \"33\", \"34\", \"35\", \"36\", \"37\", \"38\", \"39\", \"40\", \"41\", \"42\", \"43\", \"44\", \"45\", \"46\", \"47\", \"48\", \"49\", \"50\", \"51\", \"52\", \"53\", \"54\", \"55\", \"56\", \"57\", \"58\", \"59\"], \"mode\": \"markers\", \"name\": \"explained_variance\", \"stepped\": false, \"type\": \"scatter\", \"data\": [0.9925578778335857, 0.9898268930688143, 0.9935138534979482, 0.9949633606139082, 0.9951070449184567, 0.9914470587594304, 0.979376742414105, 0.9944159574974896, 0.9736033719641878, 0.9951852801480945, 0.9918981904468056, 0.9835976692993785, 0.9921578560340925, 0.9407010385402433, 0.992141457085493, 0.9758898687132842, 0.9944038454062835, 0.9918178489999828, 0.9899257578310822, 0.9923780568753306, 0.873517616387281, 0.9683417390891795, 0.9920627026633559, 0.9919598959571058, 0.9921202929746572, 0.9785424268393192, 0.9664819008014414, 0.9912617665933429, 0.9921570132624208, 0.9754853961041228, 0.9973008831570747, 0.9370053932093848, 0.9921349820685773, 0.9572139121542704, 0.8813480811060309, 0.9947101482484149, 0.9710662901030416, 0.9951848116882397, 0.9975342467584298, 0.985269720174785, 0.9934375207107463, 0.9846444871654081, 0.9921085739769605, 0.976722125899189, 0.9845135218866126, 0.9926292333403488, 0.9891912386128758, 0.3015599586700053, 0.9921732284050438, 0.992151572731434, 0.9928018866485525, 0.9921333163366525, 0.991714576066296, 0.9892684944552634, 0.9893412117741583, 0.9957639867911056, 0.9899190798560829, 0.9858056230982903, 0.9984948676664759, 0.9975438519612505]}, {\"categories\": [\"0\", \"1\", \"2\", \"3\", \"4\", \"5\", \"6\", \"7\", \"8\", \"9\", \"10\", \"11\", \"12\", \"13\", \"14\", \"15\", \"16\", \"17\", \"18\", \"19\", \"20\", \"21\", \"22\", \"23\", \"24\", \"25\", \"26\", \"27\", \"28\", \"29\", \"30\", \"31\", \"32\", \"33\", \"34\", \"35\", \"36\", \"37\", \"38\", \"39\", \"40\", \"41\", \"42\", \"43\", \"44\", \"45\", \"46\", \"47\", \"48\", \"49\", \"50\", \"51\", \"52\", \"53\", \"54\", \"55\", \"56\", \"57\", \"58\", \"59\"], \"mode\": \"lines\", \"name\": \"explained_variance_max\", \"stepped\": true, \"type\": \"scatter\", \"data\": [0.9925578778335857, 0.9925578778335857, 0.9935138534979482, 0.9949633606139082, 0.9951070449184567, 0.9951070449184567, 0.9951070449184567, 0.9951070449184567, 0.9951070449184567, 0.9951852801480945, 0.9951852801480945, 0.9951852801480945, 0.9951852801480945, 0.9951852801480945, 0.9951852801480945, 0.9951852801480945, 0.9951852801480945, 0.9951852801480945, 0.9951852801480945, 0.9951852801480945, 0.9951852801480945, 0.9951852801480945, 0.9951852801480945, 0.9951852801480945, 0.9951852801480945, 0.9951852801480945, 0.9951852801480945, 0.9951852801480945, 0.9951852801480945, 0.9951852801480945, 0.9973008831570747, 0.9973008831570747, 0.9973008831570747, 0.9973008831570747, 0.9973008831570747, 0.9973008831570747, 0.9973008831570747, 0.9973008831570747, 0.9975342467584298, 0.9975342467584298, 0.9975342467584298, 0.9975342467584298, 0.9975342467584298, 0.9975342467584298, 0.9975342467584298, 0.9975342467584298, 0.9975342467584298, 0.9975342467584298, 0.9975342467584298, 0.9975342467584298, 0.9975342467584298, 0.9975342467584298, 0.9975342467584298, 0.9975342467584298, 0.9975342467584298, 0.9975342467584298, 0.9975342467584298, 0.9975342467584298, 0.9984948676664759, 0.9984948676664759]}], \"normalized_root_mean_squared_error\": [{\"categories\": [\"0\", \"1\", \"2\", \"3\", \"4\", \"5\", \"6\", \"7\", \"8\", \"9\", \"10\", \"11\", \"12\", \"13\", \"14\", \"15\", \"16\", \"17\", \"18\", \"19\", \"20\", \"21\", \"22\", \"23\", \"24\", \"25\", \"26\", \"27\", \"28\", \"29\", \"30\", \"31\", \"32\", \"33\", \"34\", \"35\", \"36\", \"37\", \"38\", \"39\", \"40\", \"41\", \"42\", \"43\", \"44\", \"45\", \"46\", \"47\", \"48\", \"49\", \"50\", \"51\", \"52\", \"53\", \"54\", \"55\", \"56\", \"57\", \"58\", \"59\"], \"mode\": \"markers\", \"name\": \"normalized_root_mean_squared_error\", \"stepped\": false, \"type\": \"scatter\", \"data\": [0.01250847072535936, 0.015427104647875212, 0.009559442789547604, 0.010506340667408043, 0.013101574645398828, 0.016575696883692828, 0.02518852416472392, 0.010103929201034884, 0.03038324426410711, 0.00980302723401178, 0.015408422192850008, 0.02203759420762456, 0.015302776826102565, 0.045634811574672175, 0.015235068043125808, 0.02631026970178548, 0.010791158042601667, 0.015475155343809712, 0.015470813816080592, 0.01077421581479398, 0.067509076691526, 0.03279140581438572, 0.015617515903608816, 0.015804015184452753, 0.015254941237356004, 0.027349749448267034, 0.03381314640858982, 0.013373533111262784, 0.015398740240319602, 0.02689117720109569, 0.008943210893859197, 0.047162586164900724, 0.015254706723339562, 0.03567896660862087, 0.06497996343790924, 0.00903338190573897, 0.029682775411563417, 0.012094731860049616, 0.009306961154101515, 0.02086806949030222, 0.010471518318805143, 0.020529879180159253, 0.015236115695125205, 0.026628759731438828, 0.019272584440980296, 0.016234794535176296, 0.01948908085992007, 0.1734728556083618, 0.015328421960786657, 0.015232812294009029, 0.010453762685305016, 0.015227345812949173, 0.01618966068073247, 0.01632575985630892, 0.01367571551789321, 0.010710017680064804, 0.014239699710269976, 0.02035367326353131, 0.006598551159430139, 0.007787424216071937]}, {\"categories\": [\"0\", \"1\", \"2\", \"3\", \"4\", \"5\", \"6\", \"7\", \"8\", \"9\", \"10\", \"11\", \"12\", \"13\", \"14\", \"15\", \"16\", \"17\", \"18\", \"19\", \"20\", \"21\", \"22\", \"23\", \"24\", \"25\", \"26\", \"27\", \"28\", \"29\", \"30\", \"31\", \"32\", \"33\", \"34\", \"35\", \"36\", \"37\", \"38\", \"39\", \"40\", \"41\", \"42\", \"43\", \"44\", \"45\", \"46\", \"47\", \"48\", \"49\", \"50\", \"51\", \"52\", \"53\", \"54\", \"55\", \"56\", \"57\", \"58\", \"59\"], \"mode\": \"lines\", \"name\": \"normalized_root_mean_squared_error_min\", \"stepped\": true, \"type\": \"scatter\", \"data\": [0.01250847072535936, 0.01250847072535936, 0.009559442789547604, 0.009559442789547604, 0.009559442789547604, 0.009559442789547604, 0.009559442789547604, 0.009559442789547604, 0.009559442789547604, 0.009559442789547604, 0.009559442789547604, 0.009559442789547604, 0.009559442789547604, 0.009559442789547604, 0.009559442789547604, 0.009559442789547604, 0.009559442789547604, 0.009559442789547604, 0.009559442789547604, 0.009559442789547604, 0.009559442789547604, 0.009559442789547604, 0.009559442789547604, 0.009559442789547604, 0.009559442789547604, 0.009559442789547604, 0.009559442789547604, 0.009559442789547604, 0.009559442789547604, 0.009559442789547604, 0.008943210893859197, 0.008943210893859197, 0.008943210893859197, 0.008943210893859197, 0.008943210893859197, 0.008943210893859197, 0.008943210893859197, 0.008943210893859197, 0.008943210893859197, 0.008943210893859197, 0.008943210893859197, 0.008943210893859197, 0.008943210893859197, 0.008943210893859197, 0.008943210893859197, 0.008943210893859197, 0.008943210893859197, 0.008943210893859197, 0.008943210893859197, 0.008943210893859197, 0.008943210893859197, 0.008943210893859197, 0.008943210893859197, 0.008943210893859197, 0.008943210893859197, 0.008943210893859197, 0.008943210893859197, 0.008943210893859197, 0.006598551159430139, 0.006598551159430139]}], \"mean_absolute_percentage_error\": [{\"categories\": [\"0\", \"1\", \"2\", \"3\", \"4\", \"5\", \"6\", \"7\", \"8\", \"9\", \"10\", \"11\", \"12\", \"13\", \"14\", \"15\", \"16\", \"17\", \"18\", \"19\", \"20\", \"21\", \"22\", \"23\", \"24\", \"25\", \"26\", \"27\", \"28\", \"29\", \"30\", \"31\", \"32\", \"33\", \"34\", \"35\", \"36\", \"37\", \"38\", \"39\", \"40\", \"41\", \"42\", \"43\", \"44\", \"45\", \"46\", \"47\", \"48\", \"49\", \"50\", \"51\", \"52\", \"53\", \"54\", \"55\", \"56\", \"57\", \"58\", \"59\"], \"mode\": \"markers\", \"name\": \"mean_absolute_percentage_error\", \"stepped\": false, \"type\": \"scatter\", \"data\": [2.999910591168499, 3.895452695626413, 3.129604652245837, 7.705401795426598, 6.193088369260453, 153.1124543671993, 67.03260041406854, 3.55573251760367, 10.625656711247673, 5.795484548673282, 151.6528393254882, 7.960866306199708, 155.03993148877987, 268.6295986508213, 158.2062909430329, 17.280894263250456, 3.179338284083599, 140.43798269663174, 4.12830333966639, 6.208141124171982, 85.35299977922367, 295.172528461556, 151.9751691010515, 151.57356534217723, 152.58713331122712, 17.77902220215206, 312.20966383482676, 2.5084348120040043, 153.58160978643818, 8.866104219980503, 10.640854725418851, 15.950337719205072, 157.1659005923747, 14.658178475788702, 18.02955416953414, 8.066903770728233, 11.85509280934887, 6.826138174283881, 10.978577632883482, 7.846758906079247, 5.952803779402599, 5.647929060882122, 157.50436092260674, 8.144023492356448, 5.035768939764728, 51.9390525608395, 7.663855519190956, 67.1794126020843, 154.72837536893536, 158.8825300491062, 4.415548597675269, 158.8116944768172, 151.9260208694503, 3.8740675253228205, 2.937068242892591, 5.315677665948173, 2.591334778424545, 7.04790685932237, 7.139774933066723, 10.016330540363006]}, {\"categories\": [\"0\", \"1\", \"2\", \"3\", \"4\", \"5\", \"6\", \"7\", \"8\", \"9\", \"10\", \"11\", \"12\", \"13\", \"14\", \"15\", \"16\", \"17\", \"18\", \"19\", \"20\", \"21\", \"22\", \"23\", \"24\", \"25\", \"26\", \"27\", \"28\", \"29\", \"30\", \"31\", \"32\", \"33\", \"34\", \"35\", \"36\", \"37\", \"38\", \"39\", \"40\", \"41\", \"42\", \"43\", \"44\", \"45\", \"46\", \"47\", \"48\", \"49\", \"50\", \"51\", \"52\", \"53\", \"54\", \"55\", \"56\", \"57\", \"58\", \"59\"], \"mode\": \"lines\", \"name\": \"mean_absolute_percentage_error_min\", \"stepped\": true, \"type\": \"scatter\", \"data\": [2.999910591168499, 2.999910591168499, 2.999910591168499, 2.999910591168499, 2.999910591168499, 2.999910591168499, 2.999910591168499, 2.999910591168499, 2.999910591168499, 2.999910591168499, 2.999910591168499, 2.999910591168499, 2.999910591168499, 2.999910591168499, 2.999910591168499, 2.999910591168499, 2.999910591168499, 2.999910591168499, 2.999910591168499, 2.999910591168499, 2.999910591168499, 2.999910591168499, 2.999910591168499, 2.999910591168499, 2.999910591168499, 2.999910591168499, 2.999910591168499, 2.5084348120040043, 2.5084348120040043, 2.5084348120040043, 2.5084348120040043, 2.5084348120040043, 2.5084348120040043, 2.5084348120040043, 2.5084348120040043, 2.5084348120040043, 2.5084348120040043, 2.5084348120040043, 2.5084348120040043, 2.5084348120040043, 2.5084348120040043, 2.5084348120040043, 2.5084348120040043, 2.5084348120040043, 2.5084348120040043, 2.5084348120040043, 2.5084348120040043, 2.5084348120040043, 2.5084348120040043, 2.5084348120040043, 2.5084348120040043, 2.5084348120040043, 2.5084348120040043, 2.5084348120040043, 2.5084348120040043, 2.5084348120040043, 2.5084348120040043, 2.5084348120040043, 2.5084348120040043, 2.5084348120040043]}], \"normalized_median_absolute_error\": [{\"categories\": [\"0\", \"1\", \"2\", \"3\", \"4\", \"5\", \"6\", \"7\", \"8\", \"9\", \"10\", \"11\", \"12\", \"13\", \"14\", \"15\", \"16\", \"17\", \"18\", \"19\", \"20\", \"21\", \"22\", \"23\", \"24\", \"25\", \"26\", \"27\", \"28\", \"29\", \"30\", \"31\", \"32\", \"33\", \"34\", \"35\", \"36\", \"37\", \"38\", \"39\", \"40\", \"41\", \"42\", \"43\", \"44\", \"45\", \"46\", \"47\", \"48\", \"49\", \"50\", \"51\", \"52\", \"53\", \"54\", \"55\", \"56\", \"57\", \"58\", \"59\"], \"mode\": \"markers\", \"name\": \"normalized_median_absolute_error\", \"stepped\": false, \"type\": \"scatter\", \"data\": [0.0001953484195729441, 0.00025615108242114297, 0.0002401612458892754, 0.0005407935289181746, 0.0004279768337433779, 0.008165032334948736, 0.003585281496194712, 0.00023431855197418084, 0.0006541147356750611, 0.00040797271099377193, 0.008322534558718219, 0.0005141098821303331, 0.0077388745858202905, 0.019810794916186824, 0.007819563031032855, 0.0006773296990361277, 0.00022369345568588205, 0.008005199367999575, 0.000283522352829146, 0.00041825249677820617, 0.008093441650234486, 0.016777947918522433, 0.007856421954574979, 0.007922086307976218, 0.007739258397276102, 0.001160463077466241, 0.017520239060208363, 0.00015311824410515646, 0.007706150559177944, 0.0006848657991758527, 0.0007000583800330429, 0.0013415389169229822, 0.007683376006264125, 0.0011757900900067604, 0.0011828779731344545, 0.0005644062624639523, 0.0009349164825440019, 0.0004690014800586932, 0.0006838655208224697, 0.0006030177843750046, 0.0003960291911713749, 0.0003927184199287337, 0.007923095787385225, 0.0006191529923795137, 0.0003929280159704584, 0.002953846262229613, 0.0005969152796671919, 0.003559782101667924, 0.007698446527621261, 0.00779487619589945, 0.0003106419779050856, 0.00787947553989134, 0.007976647748096389, 0.000265423870555319, 0.00020058650333996394, 0.0003552774589877946, 0.00017160723232640304, 0.0005016565027153718, 0.00042288579357815996, 0.000601433426100369]}, {\"categories\": [\"0\", \"1\", \"2\", \"3\", \"4\", \"5\", \"6\", \"7\", \"8\", \"9\", \"10\", \"11\", \"12\", \"13\", \"14\", \"15\", \"16\", \"17\", \"18\", \"19\", \"20\", \"21\", \"22\", \"23\", \"24\", \"25\", \"26\", \"27\", \"28\", \"29\", \"30\", \"31\", \"32\", \"33\", \"34\", \"35\", \"36\", \"37\", \"38\", \"39\", \"40\", \"41\", \"42\", \"43\", \"44\", \"45\", \"46\", \"47\", \"48\", \"49\", \"50\", \"51\", \"52\", \"53\", \"54\", \"55\", \"56\", \"57\", \"58\", \"59\"], \"mode\": \"lines\", \"name\": \"normalized_median_absolute_error_min\", \"stepped\": true, \"type\": \"scatter\", \"data\": [0.0001953484195729441, 0.0001953484195729441, 0.0001953484195729441, 0.0001953484195729441, 0.0001953484195729441, 0.0001953484195729441, 0.0001953484195729441, 0.0001953484195729441, 0.0001953484195729441, 0.0001953484195729441, 0.0001953484195729441, 0.0001953484195729441, 0.0001953484195729441, 0.0001953484195729441, 0.0001953484195729441, 0.0001953484195729441, 0.0001953484195729441, 0.0001953484195729441, 0.0001953484195729441, 0.0001953484195729441, 0.0001953484195729441, 0.0001953484195729441, 0.0001953484195729441, 0.0001953484195729441, 0.0001953484195729441, 0.0001953484195729441, 0.0001953484195729441, 0.00015311824410515646, 0.00015311824410515646, 0.00015311824410515646, 0.00015311824410515646, 0.00015311824410515646, 0.00015311824410515646, 0.00015311824410515646, 0.00015311824410515646, 0.00015311824410515646, 0.00015311824410515646, 0.00015311824410515646, 0.00015311824410515646, 0.00015311824410515646, 0.00015311824410515646, 0.00015311824410515646, 0.00015311824410515646, 0.00015311824410515646, 0.00015311824410515646, 0.00015311824410515646, 0.00015311824410515646, 0.00015311824410515646, 0.00015311824410515646, 0.00015311824410515646, 0.00015311824410515646, 0.00015311824410515646, 0.00015311824410515646, 0.00015311824410515646, 0.00015311824410515646, 0.00015311824410515646, 0.00015311824410515646, 0.00015311824410515646, 0.00015311824410515646, 0.00015311824410515646]}], \"r2_score\": [{\"categories\": [\"0\", \"1\", \"2\", \"3\", \"4\", \"5\", \"6\", \"7\", \"8\", \"9\", \"10\", \"11\", \"12\", \"13\", \"14\", \"15\", \"16\", \"17\", \"18\", \"19\", \"20\", \"21\", \"22\", \"23\", \"24\", \"25\", \"26\", \"27\", \"28\", \"29\", \"30\", \"31\", \"32\", \"33\", \"34\", \"35\", \"36\", \"37\", \"38\", \"39\", \"40\", \"41\", \"42\", \"43\", \"44\", \"45\", \"46\", \"47\", \"48\", \"49\", \"50\", \"51\", \"52\", \"53\", \"54\", \"55\", \"56\", \"57\", \"58\", \"59\"], \"mode\": \"markers\", \"name\": \"r2_score\", \"stepped\": false, \"type\": \"scatter\", \"data\": [0.9925261404004312, 0.9897760838159849, 0.9934866673677565, 0.9949476163246906, 0.995088209079246, 0.9914401689331713, 0.9793153886032158, 0.9943967233955441, 0.9735596588130792, 0.9951670361191975, 0.9918902201394628, 0.9835577373722012, 0.9921467230789339, 0.9402634579299418, 0.992129734727618, 0.9758598990924965, 0.9943780649460614, 0.9918089654747899, 0.9898982823871336, 0.9923590565698405, 0.8720799083239663, 0.9683328677210674, 0.9920530788752824, 0.9919509268219334, 0.9921096418895073, 0.978415458000056, 0.9664323344608713, 0.9912380788257185, 0.9921464036652644, 0.9754472791967052, 0.9972959727073002, 0.9367592777151688, 0.9921233674353307, 0.9571292900654511, 0.8810000727744939, 0.9946923941931208, 0.9710020498409353, 0.9951749658768441, 0.9975145526019205, 0.9852021503631221, 0.9934054641782545, 0.9846251374781817, 0.992097413286726, 0.9766741697496837, 0.984481905938669, 0.9926060048152202, 0.9891038064012155, 0.1582011142976359, 0.9921621903853997, 0.9921395119432773, 0.9927758977970973, 0.9921214671017784, 0.991706727583092, 0.9892480980883571, 0.9893159369438205, 0.9957486824777678, 0.9898904268430219, 0.9856175707518776, 0.9984850975435661, 0.9975328155677774]}, {\"categories\": [\"0\", \"1\", \"2\", \"3\", \"4\", \"5\", \"6\", \"7\", \"8\", \"9\", \"10\", \"11\", \"12\", \"13\", \"14\", \"15\", \"16\", \"17\", \"18\", \"19\", \"20\", \"21\", \"22\", \"23\", \"24\", \"25\", \"26\", \"27\", \"28\", \"29\", \"30\", \"31\", \"32\", \"33\", \"34\", \"35\", \"36\", \"37\", \"38\", \"39\", \"40\", \"41\", \"42\", \"43\", \"44\", \"45\", \"46\", \"47\", \"48\", \"49\", \"50\", \"51\", \"52\", \"53\", \"54\", \"55\", \"56\", \"57\", \"58\", \"59\"], \"mode\": \"lines\", \"name\": \"r2_score_max\", \"stepped\": true, \"type\": \"scatter\", \"data\": [0.9925261404004312, 0.9925261404004312, 0.9934866673677565, 0.9949476163246906, 0.995088209079246, 0.995088209079246, 0.995088209079246, 0.995088209079246, 0.995088209079246, 0.9951670361191975, 0.9951670361191975, 0.9951670361191975, 0.9951670361191975, 0.9951670361191975, 0.9951670361191975, 0.9951670361191975, 0.9951670361191975, 0.9951670361191975, 0.9951670361191975, 0.9951670361191975, 0.9951670361191975, 0.9951670361191975, 0.9951670361191975, 0.9951670361191975, 0.9951670361191975, 0.9951670361191975, 0.9951670361191975, 0.9951670361191975, 0.9951670361191975, 0.9951670361191975, 0.9972959727073002, 0.9972959727073002, 0.9972959727073002, 0.9972959727073002, 0.9972959727073002, 0.9972959727073002, 0.9972959727073002, 0.9972959727073002, 0.9975145526019205, 0.9975145526019205, 0.9975145526019205, 0.9975145526019205, 0.9975145526019205, 0.9975145526019205, 0.9975145526019205, 0.9975145526019205, 0.9975145526019205, 0.9975145526019205, 0.9975145526019205, 0.9975145526019205, 0.9975145526019205, 0.9975145526019205, 0.9975145526019205, 0.9975145526019205, 0.9975145526019205, 0.9975145526019205, 0.9975145526019205, 0.9975145526019205, 0.9984850975435661, 0.9984850975435661]}], \"spearman_correlation\": [{\"categories\": [\"0\", \"1\", \"2\", \"3\", \"4\", \"5\", \"6\", \"7\", \"8\", \"9\", \"10\", \"11\", \"12\", \"13\", \"14\", \"15\", \"16\", \"17\", \"18\", \"19\", \"20\", \"21\", \"22\", \"23\", \"24\", \"25\", \"26\", \"27\", \"28\", \"29\", \"30\", \"31\", \"32\", \"33\", \"34\", \"35\", \"36\", \"37\", \"38\", \"39\", \"40\", \"41\", \"42\", \"43\", \"44\", \"45\", \"46\", \"47\", \"48\", \"49\", \"50\", \"51\", \"52\", \"53\", \"54\", \"55\", \"56\", \"57\", \"58\", \"59\"], \"mode\": \"markers\", \"name\": \"spearman_correlation\", \"stepped\": false, \"type\": \"scatter\", \"data\": [0.9979681231861507, 0.9984965638812542, 0.9984453318023447, 0.986355754188963, 0.9957902228006865, 0.8346764960357419, 0.9880132660004906, 0.9979456753570792, 0.9869537196073426, 0.9957838657630044, 0.849581538987627, 0.99465838947024, 0.8296305043151353, 0.9305052039778652, 0.8311616187530199, 0.9887297323491067, 0.9985251177417739, 0.8433569506686072, 0.9979393518879898, 0.99416794916133, 0.9497773698108144, 0.9281868321782538, 0.8296040191804067, 0.829924716377121, 0.8335358786298566, 0.9699168149125328, 0.9324676649639165, 0.9987967406327856, 0.8293063081002758, 0.9931671612218059, 0.9805848455377022, 0.9876714944996945, 0.8300412876620926, 0.9838487042649297, 0.9835938729939576, 0.9923553221701988, 0.9887924918706934, 0.9916713549871232, 0.986386989127765, 0.9929072886582475, 0.9951916062720325, 0.9966502994652705, 0.8340202887289012, 0.994024888959132, 0.9968723964803352, 0.9177331391257452, 0.9929073760591093, 0.9500602628424673, 0.8294563896368816, 0.8299146188570165, 0.9969363829806802, 0.8311446105319911, 0.8319182105787221, 0.9982955193892703, 0.9987324925228179, 0.9944545408042572, 0.9990728352661528, 0.9965364089296251, 0.9915627744256621, 0.9884931493701364]}, {\"categories\": [\"0\", \"1\", \"2\", \"3\", \"4\", \"5\", \"6\", \"7\", \"8\", \"9\", \"10\", \"11\", \"12\", \"13\", \"14\", \"15\", \"16\", \"17\", \"18\", \"19\", \"20\", \"21\", \"22\", \"23\", \"24\", \"25\", \"26\", \"27\", \"28\", \"29\", \"30\", \"31\", \"32\", \"33\", \"34\", \"35\", \"36\", \"37\", \"38\", \"39\", \"40\", \"41\", \"42\", \"43\", \"44\", \"45\", \"46\", \"47\", \"48\", \"49\", \"50\", \"51\", \"52\", \"53\", \"54\", \"55\", \"56\", \"57\", \"58\", \"59\"], \"mode\": \"lines\", \"name\": \"spearman_correlation_max\", \"stepped\": true, \"type\": \"scatter\", \"data\": [0.9979681231861507, 0.9984965638812542, 0.9984965638812542, 0.9984965638812542, 0.9984965638812542, 0.9984965638812542, 0.9984965638812542, 0.9984965638812542, 0.9984965638812542, 0.9984965638812542, 0.9984965638812542, 0.9984965638812542, 0.9984965638812542, 0.9984965638812542, 0.9984965638812542, 0.9984965638812542, 0.9985251177417739, 0.9985251177417739, 0.9985251177417739, 0.9985251177417739, 0.9985251177417739, 0.9985251177417739, 0.9985251177417739, 0.9985251177417739, 0.9985251177417739, 0.9985251177417739, 0.9985251177417739, 0.9987967406327856, 0.9987967406327856, 0.9987967406327856, 0.9987967406327856, 0.9987967406327856, 0.9987967406327856, 0.9987967406327856, 0.9987967406327856, 0.9987967406327856, 0.9987967406327856, 0.9987967406327856, 0.9987967406327856, 0.9987967406327856, 0.9987967406327856, 0.9987967406327856, 0.9987967406327856, 0.9987967406327856, 0.9987967406327856, 0.9987967406327856, 0.9987967406327856, 0.9987967406327856, 0.9987967406327856, 0.9987967406327856, 0.9987967406327856, 0.9987967406327856, 0.9987967406327856, 0.9987967406327856, 0.9987967406327856, 0.9987967406327856, 0.9990728352661528, 0.9990728352661528, 0.9990728352661528, 0.9990728352661528]}], \"root_mean_squared_log_error\": [{\"categories\": [\"0\", \"1\", \"2\", \"3\", \"4\", \"5\", \"6\", \"7\", \"8\", \"9\", \"10\", \"11\", \"12\", \"13\", \"14\", \"15\", \"16\", \"17\", \"18\", \"19\", \"20\", \"21\", \"22\", \"23\", \"24\", \"25\", \"26\", \"27\", \"28\", \"29\", \"30\", \"31\", \"32\", \"33\", \"34\", \"35\", \"36\", \"37\", \"38\", \"39\", \"40\", \"41\", \"42\", \"43\", \"44\", \"45\", \"46\", \"47\", \"48\", \"49\", \"50\", \"51\", \"52\", \"53\", \"54\", \"55\", \"56\", \"57\", \"58\", \"59\"], \"mode\": \"markers\", \"name\": \"root_mean_squared_log_error\", \"stepped\": false, \"type\": \"scatter\", \"data\": [0.05071798121123065, 0.06375533304253603, 0.04645021880961764, 0.14259147376423773, 0.08756097558794257, NaN, 0.5199135348205493, 0.05395140944843189, 0.14214600272540914, 0.08384867412084285, NaN, 0.11482168856495738, NaN, NaN, NaN, 0.23084457320282148, 0.04685305874097887, NaN, 0.06093296091254115, 0.0942515137345289, 0.6321863633008512, NaN, NaN, NaN, NaN, 0.24037367146900135, NaN, 0.04445395252947177, NaN, 0.1136177999220009, 0.1733818604480191, 0.18647188695938147, NaN, 0.1956850556305849, 0.21944678743717422, 0.1031910157095707, 0.14803672230448345, 0.09993809631990151, 0.15591865808538483, 0.10161511938713289, 0.09552695467784633, 0.07708590952456876, NaN, 0.10303259571082254, 0.07187332320461762, NaN, 0.11404652666624697, 0.845432651813417, NaN, NaN, 0.06371992127974753, NaN, NaN, 0.0563967268346781, 0.047797021209192596, 0.09470399825288384, 0.04392575246055826, 0.08875597538633365, 0.10536405255318383, 0.13898086213920308]}, {\"categories\": [\"0\", \"1\", \"2\", \"3\", \"4\", \"5\", \"6\", \"7\", \"8\", \"9\", \"10\", \"11\", \"12\", \"13\", \"14\", \"15\", \"16\", \"17\", \"18\", \"19\", \"20\", \"21\", \"22\", \"23\", \"24\", \"25\", \"26\", \"27\", \"28\", \"29\", \"30\", \"31\", \"32\", \"33\", \"34\", \"35\", \"36\", \"37\", \"38\", \"39\", \"40\", \"41\", \"42\", \"43\", \"44\", \"45\", \"46\", \"47\", \"48\", \"49\", \"50\", \"51\", \"52\", \"53\", \"54\", \"55\", \"56\", \"57\", \"58\", \"59\"], \"mode\": \"lines\", \"name\": \"root_mean_squared_log_error_min\", \"stepped\": true, \"type\": \"scatter\", \"data\": [0.05071798121123065, 0.05071798121123065, 0.04645021880961764, 0.04645021880961764, 0.04645021880961764, 0.04645021880961764, 0.04645021880961764, 0.04645021880961764, 0.04645021880961764, 0.04645021880961764, 0.04645021880961764, 0.04645021880961764, 0.04645021880961764, 0.04645021880961764, 0.04645021880961764, 0.04645021880961764, 0.04645021880961764, 0.04645021880961764, 0.04645021880961764, 0.04645021880961764, 0.04645021880961764, 0.04645021880961764, 0.04645021880961764, 0.04645021880961764, 0.04645021880961764, 0.04645021880961764, 0.04645021880961764, 0.04445395252947177, 0.04445395252947177, 0.04445395252947177, 0.04445395252947177, 0.04445395252947177, 0.04445395252947177, 0.04445395252947177, 0.04445395252947177, 0.04445395252947177, 0.04445395252947177, 0.04445395252947177, 0.04445395252947177, 0.04445395252947177, 0.04445395252947177, 0.04445395252947177, 0.04445395252947177, 0.04445395252947177, 0.04445395252947177, 0.04445395252947177, 0.04445395252947177, 0.04445395252947177, 0.04445395252947177, 0.04445395252947177, 0.04445395252947177, 0.04445395252947177, 0.04445395252947177, 0.04445395252947177, 0.04445395252947177, 0.04445395252947177, 0.04392575246055826, 0.04392575246055826, 0.04392575246055826, 0.04392575246055826]}], \"root_mean_squared_error\": [{\"categories\": [\"0\", \"1\", \"2\", \"3\", \"4\", \"5\", \"6\", \"7\", \"8\", \"9\", \"10\", \"11\", \"12\", \"13\", \"14\", \"15\", \"16\", \"17\", \"18\", \"19\", \"20\", \"21\", \"22\", \"23\", \"24\", \"25\", \"26\", \"27\", \"28\", \"29\", \"30\", \"31\", \"32\", \"33\", \"34\", \"35\", \"36\", \"37\", \"38\", \"39\", \"40\", \"41\", \"42\", \"43\", \"44\", \"45\", \"46\", \"47\", \"48\", \"49\", \"50\", \"51\", \"52\", \"53\", \"54\", \"55\", \"56\", \"57\", \"58\", \"59\"], \"mode\": \"markers\", \"name\": \"root_mean_squared_error\", \"stepped\": false, \"type\": \"scatter\", \"data\": [34.84847435614393, 42.97975927793387, 26.632512017251734, 29.270560035992133, 36.50085594633468, 46.17972576099938, 70.17497643767919, 28.149445714791177, 84.64741468735978, 27.31113584368448, 42.9277101450582, 61.39651708649997, 42.63338320975349, 127.13812869892095, 42.44474721746808, 73.30014828647734, 30.064058395107814, 43.113628036300426, 43.10153258346237, 30.016857517857886, 188.07961257182455, 91.35652868482047, 43.51024313229514, 44.029828263733535, 42.500113737861454, 76.19612846537748, 94.20308776286716, 37.258529512647, 42.90073632212801, 74.9185507704806, 24.915696118182787, 131.39449342955177, 42.49946038415679, 99.40124418195164, 181.0335283383808, 25.166911655569713, 82.69591546886156, 33.69580201477963, 25.92910070571528, 58.13823291928709, 29.173545321007943, 57.19603809713188, 42.44766596546187, 74.18745832419127, 53.693227526726716, 45.22997522705582, 54.296384384928714, 483.29364099633995, 42.70483029853202, 42.438462722986216, 29.124078303632928, 42.42323316141827, 45.104232759913856, 45.48340370207808, 38.10040667569531, 29.838002156483743, 39.67166099581506, 56.705130175465605, 18.383497544660777, 21.69568599173426]}, {\"categories\": [\"0\", \"1\", \"2\", \"3\", \"4\", \"5\", \"6\", \"7\", \"8\", \"9\", \"10\", \"11\", \"12\", \"13\", \"14\", \"15\", \"16\", \"17\", \"18\", \"19\", \"20\", \"21\", \"22\", \"23\", \"24\", \"25\", \"26\", \"27\", \"28\", \"29\", \"30\", \"31\", \"32\", \"33\", \"34\", \"35\", \"36\", \"37\", \"38\", \"39\", \"40\", \"41\", \"42\", \"43\", \"44\", \"45\", \"46\", \"47\", \"48\", \"49\", \"50\", \"51\", \"52\", \"53\", \"54\", \"55\", \"56\", \"57\", \"58\", \"59\"], \"mode\": \"lines\", \"name\": \"root_mean_squared_error_min\", \"stepped\": true, \"type\": \"scatter\", \"data\": [34.84847435614393, 34.84847435614393, 26.632512017251734, 26.632512017251734, 26.632512017251734, 26.632512017251734, 26.632512017251734, 26.632512017251734, 26.632512017251734, 26.632512017251734, 26.632512017251734, 26.632512017251734, 26.632512017251734, 26.632512017251734, 26.632512017251734, 26.632512017251734, 26.632512017251734, 26.632512017251734, 26.632512017251734, 26.632512017251734, 26.632512017251734, 26.632512017251734, 26.632512017251734, 26.632512017251734, 26.632512017251734, 26.632512017251734, 26.632512017251734, 26.632512017251734, 26.632512017251734, 26.632512017251734, 24.915696118182787, 24.915696118182787, 24.915696118182787, 24.915696118182787, 24.915696118182787, 24.915696118182787, 24.915696118182787, 24.915696118182787, 24.915696118182787, 24.915696118182787, 24.915696118182787, 24.915696118182787, 24.915696118182787, 24.915696118182787, 24.915696118182787, 24.915696118182787, 24.915696118182787, 24.915696118182787, 24.915696118182787, 24.915696118182787, 24.915696118182787, 24.915696118182787, 24.915696118182787, 24.915696118182787, 24.915696118182787, 24.915696118182787, 24.915696118182787, 24.915696118182787, 18.383497544660777, 18.383497544660777]}]}, \"metricName\": null, \"primaryMetricName\": \"r2_score\", \"showLegend\": false}, \"run_metrics\": [{\"name\": \"experiment_status\", \"run_id\": \"AutoML_27328928-d2b2-468c-81d7-57e22d39498f\", \"categories\": [0, 1, 2, 3, 4, 5, 6, 7, 8, 9, 10], \"series\": [{\"data\": [\"DatasetEvaluation\", \"FeaturesGeneration\", \"DatasetFeaturization\", \"DatasetCrossValidationSplit\", \"DatasetFeaturizationCompleted\", \"ModelSelection\", \"BestRunExplainModel\", \"ModelExplanationDataSetSetup\", \"EngineeredFeatureExplanations\", \"EngineeredFeatureExplanations\", \"BestRunExplainModel\"]}]}, {\"name\": \"experiment_status_description\", \"run_id\": \"AutoML_27328928-d2b2-468c-81d7-57e22d39498f\", \"categories\": [0, 1, 2, 3, 4, 5, 6, 7, 8, 9, 10], \"series\": [{\"data\": [\"Generating features for the dataset.\", \"Beginning to fit featurizers and featurize the dataset.\", \"Gathering dataset statistics.\", \"Completed fit featurizers and featurizing the dataset.\", \"Generating individually featurized CV splits.\", \"Beginning model selection.\", \"Best run model explanations started\", \"Model explanations data setup completed\", \"Computation of engineered features started\", \"Computation of engineered features completed\", \"Best run model explanations completed\"]}]}], \"run_logs\": \"\\nRun is completed.\", \"graph\": {}, \"widget_settings\": {\"childWidgetDisplay\": \"popup\", \"send_telemetry\": false, \"log_level\": \"INFO\", \"sdk_version\": \"1.2.0\"}, \"loading\": false}"
     },
     "metadata": {},
     "output_type": "display_data"
    }
   ],
   "source": [
    "from azureml.widgets import RunDetails\n",
    "RunDetails(remote_run).show()"
   ]
  },
  {
   "cell_type": "markdown",
   "metadata": {},
   "source": [
    "It may happened that above widget will not work unless we run it agian. Hence, following are some snippets got from this widget. "
   ]
  },
  {
   "cell_type": "markdown",
   "metadata": {},
   "source": [
    "Actual Widget: "
   ]
  },
  {
   "cell_type": "markdown",
   "metadata": {},
   "source": [
    "<center>\n",
    "    <img src=\"Images/widget1.png\" />\n",
    "</center>"
   ]
  },
  {
   "cell_type": "markdown",
   "metadata": {},
   "source": [
    "MAE :"
   ]
  },
  {
   "cell_type": "markdown",
   "metadata": {},
   "source": [
    "<center>\n",
    "    <img src=\"Images/widget_mae.png\" />\n",
    "</center>"
   ]
  },
  {
   "cell_type": "markdown",
   "metadata": {},
   "source": [
    "Explained Variance:"
   ]
  },
  {
   "cell_type": "markdown",
   "metadata": {},
   "source": [
    "<right>\n",
    "    <img src=\"Images/widget_Var.png\"/>\n",
    "</right>"
   ]
  },
  {
   "cell_type": "markdown",
   "metadata": {},
   "source": [
    "__Ensemble models:__\n",
    "Automated machine learning supports ensemble models, which are enabled by default. Ensemble learning improves machine learning results and predictive performance by combining multiple models as opposed to using single models. The ensemble iterations appear as the final iterations of your run. Automated machine learning uses both voting and stacking ensemble methods for combining models:\n",
    "\n",
    "__Voting:__ predicts based on the weighted average of predicted class probabilities (for classification tasks) or predicted regression targets (for regression tasks). <br>\n",
    "__Stacking:__ stacking combines heterogenous models and trains a meta-model based on the output from the individual models. The current default meta-models are LogisticRegression for classification tasks and ElasticNet for regression/forecasting tasks"
   ]
  },
  {
   "cell_type": "markdown",
   "metadata": {},
   "source": [
    "### To check which is the best model amongs the others:"
   ]
  },
  {
   "cell_type": "code",
   "execution_count": 18,
   "metadata": {},
   "outputs": [
    {
     "name": "stdout",
     "output_type": "stream",
     "text": [
      "Run(Experiment: exp3,\n",
      "Id: AutoML_27328928-d2b2-468c-81d7-57e22d39498f_58,\n",
      "Type: None,\n",
      "Status: Completed)\n",
      "***\n",
      "RegressionPipeline(pipeline=Pipeline(memory=None,\n",
      "     steps=[('datatransformer', DataTransformer(enable_dnn=None, enable_feature_sweeping=None,\n",
      "        feature_sweeping_config=None, feature_sweeping_timeout=None,\n",
      "        featurization_config=None, force_text_dnn=None,\n",
      "        is_cross_validation=None, is_onnx_compatible=None, logger=None,\n",
      "        obser...666666666667, 0.06666666666666667, 0.06666666666666667, 0.06666666666666667, 0.06666666666666667]))]),\n",
      "          stddev=None)\n"
     ]
    }
   ],
   "source": [
    "best_run, fitted_model = remote_run.get_output()\n",
    "print(best_run)\n",
    "print(\"***\")\n",
    "print(fitted_model)"
   ]
  },
  {
   "cell_type": "markdown",
   "metadata": {},
   "source": [
    " __Voting emsemble__ is the best model amongs other for the given problem. <br>\n",
    " __model accuracy__ is __99.84%__  calculated by primary_metric: *r2_score*"
   ]
  },
  {
   "cell_type": "markdown",
   "metadata": {},
   "source": [
    "Run the following cell to access previous runs. Uncomment the cell below and update the run_id."
   ]
  },
  {
   "cell_type": "code",
   "execution_count": 22,
   "metadata": {},
   "outputs": [],
   "source": [
    "#from azureml.train.automl.run import AutoMLRun\n",
    "#remote_run = AutoMLRun(experiment=exp3, run_id='<run_ID_goes_here')\n",
    "#remote_run"
   ]
  },
  {
   "cell_type": "markdown",
   "metadata": {},
   "source": [
    "__Feature Importance from Azure API for the best model:__"
   ]
  },
  {
   "cell_type": "markdown",
   "metadata": {},
   "source": [
    "<center>\n",
    "    <img src=\"Images/feature.png\" />\n",
    "</center>"
   ]
  },
  {
   "cell_type": "markdown",
   "metadata": {},
   "source": [
    "### Prediction & Validation: "
   ]
  },
  {
   "cell_type": "code",
   "execution_count": 23,
   "metadata": {},
   "outputs": [],
   "source": [
    "test_y = test_data['SP500'].fillna(0)\n",
    "test_data = test_data.drop('SP500', 1)\n",
    "test_data = test_data.fillna(0)\n",
    "\n",
    "train_y = train_data['SP500'].fillna(0)\n",
    "train_data = train_data.drop('SP500', 1)\n",
    "train_data = train_data.fillna(0)"
   ]
  },
  {
   "cell_type": "markdown",
   "metadata": {},
   "source": [
    "### Prediction:"
   ]
  },
  {
   "cell_type": "code",
   "execution_count": 45,
   "metadata": {},
   "outputs": [],
   "source": [
    "## Prediction on Training & Testing Data\n",
    "pred_train_y = fitted_model.predict(train_data)\n",
    "pred_test_y = fitted_model.predict(test_data)"
   ]
  },
  {
   "cell_type": "markdown",
   "metadata": {},
   "source": [
    "### Residuals:"
   ]
  },
  {
   "cell_type": "code",
   "execution_count": 27,
   "metadata": {},
   "outputs": [],
   "source": [
    "## Calculating Residual\n",
    "residual_train_y = train_y - pred_train_y\n",
    "residual_test_y = test_y - pred_test_y"
   ]
  },
  {
   "cell_type": "markdown",
   "metadata": {},
   "source": [
    "### Visualization:"
   ]
  },
  {
   "cell_type": "code",
   "execution_count": 31,
   "metadata": {},
   "outputs": [
    {
     "data": {
      "image/png": "[encoded data removed]",
      "text/plain": [
       "<Figure size 432x288 with 1 Axes>"
      ]
     },
     "metadata": {
      "needs_background": "light"
     },
     "output_type": "display_data"
    }
   ],
   "source": [
    "## Ploting Residual\n",
    "test_pred = plt.scatter(test_y, pred_test_y, color='r')\n",
    "test_test = plt.scatter(test_y, test_y, color='g')\n",
    "plt.legend((test_pred, test_test), ('prediction', 'truth'), loc='upper left', fontsize=8)\n",
    "plt.show()"
   ]
  },
  {
   "cell_type": "markdown",
   "metadata": {},
   "source": [
    "__RMSE__ is a quadratic scoring rule that also measures the average magnitude of the error. It’s the square root of the average of squared differences between prediction and actual observation. It should be more useful when large errors are particularly undesirable.<br>\n",
    "Lower values of RMSE indicate better fit"
   ]
  },
  {
   "cell_type": "code",
   "execution_count": 32,
   "metadata": {},
   "outputs": [
    {
     "data": {
      "text/plain": [
       "9.338669170631627"
      ]
     },
     "execution_count": 32,
     "metadata": {},
     "output_type": "execute_result"
    }
   ],
   "source": [
    "from sklearn.metrics import mean_squared_error\n",
    "from math import sqrt\n",
    "\n",
    "actual_y = test_y.values.flatten().tolist()\n",
    "rmse = sqrt(mean_squared_error(actual_y, pred_test_y))\n",
    "rmse"
   ]
  },
  {
   "cell_type": "markdown",
   "metadata": {},
   "source": [
    "RMSE for the __Voting Ensemble__ model is 9.33 on the test data."
   ]
  },
  {
   "cell_type": "markdown",
   "metadata": {},
   "source": [
    " In general, a lower RMSD is better than a higher one. However, comparisons across different types of data would be invalid because the measure is dependent on the scale of the numbers used."
   ]
  },
  {
   "cell_type": "markdown",
   "metadata": {},
   "source": [
    "# Conclusion:\n",
    "In this Project, we have successfully automated the machine learning process with the help of Azure AutoML. <br>\n",
    "So far, using Azure AutoML we have : <br>\n",
    "> Built resilient model which can directly deploy at client side.<br>\n",
    "> Reduced time required to build the model by about 70%<br>\n",
    "> Created a data pipeline. <br>\n",
    "> Achieved 99.7% model accuracy for Voting Ensemble learning algorithm.<br>\n",
    "> Visualized True vs Prdicted value difference."
   ]
  },
  {
   "cell_type": "markdown",
   "metadata": {},
   "source": [
    "# Author:\n",
    "Pranav Khiste( NUID : 001057866 )<br>\n",
    "Information Systems<br>\n",
    "Northeastern University<br>"
   ]
  },
  {
   "cell_type": "markdown",
   "metadata": {},
   "source": [
    "# Citation:\n",
    "References:<br>\n",
    "https://en.wikipedia.org/wiki/Automated_machine_learning <br>\n",
    "https://docs.microsoft.com/en-us/azure/machine-learning/how-to-use-automated-ml-for-ml-models <br>"
   ]
  },
  {
   "cell_type": "markdown",
   "metadata": {},
   "source": [
    "# Licensing\n",
    "Copyright 2020 Pranav Sanjay Khiste\n",
    "\n",
    "Permission is hereby granted, free of charge, to any person obtaining a copy of this software and associated documentation files (the \"Software\"), to deal in the Software without restriction, including without limitation the rights to use, copy, modify, merge, publish, distribute, sublicense, and/or sell copies of the Software, and to permit persons to whom the Software is furnished to do so, subject to the following conditions:\n",
    "\n",
    "The above copyright notice and this permission notice shall be included in all copies or substantial portions of the Software.\n",
    "\n",
    "THE SOFTWARE IS PROVIDED \"AS IS\", WITHOUT WARRANTY OF ANY KIND, EXPRESS OR IMPLIED, INCLUDING BUT NOT LIMITED TO THE WARRANTIES OF MERCHANTABILITY, FITNESS FOR A PARTICULAR PURPOSE AND NONINFRINGEMENT. IN NO EVENT SHALL THE AUTHORS OR COPYRIGHT HOLDERS BE LIABLE FOR ANY CLAIM, DAMAGES OR OTHER LIABILITY, WHETHER IN AN ACTION OF CONTRACT, TORT OR OTHERWISE, ARISING FROM, OUT OF OR IN CONNECTION WITH THE SOFTWARE OR THE USE OR OTHER DEALINGS IN THE SOFTWARE."
   ]
  }
 ],
 "metadata": {
  "kernelspec": {
   "display_name": "Python 3",
   "language": "python",
   "name": "python3"
  },
  "language_info": {
   "codemirror_mode": {
    "name": "ipython",
    "version": 3
   },
   "file_extension": ".py",
   "mimetype": "text/x-python",
   "name": "python",
   "nbconvert_exporter": "python",
   "pygments_lexer": "ipython3",
   "version": "3.7.3"
  }
 },
 "nbformat": 4,
 "nbformat_minor": 2
}
